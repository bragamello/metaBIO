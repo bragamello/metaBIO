{
  "nbformat": 4,
  "nbformat_minor": 0,
  "metadata": {
    "colab": {
      "name": "Python_tipos_dados-lista.ipynb",
      "provenance": []
    },
    "kernelspec": {
      "name": "python3",
      "display_name": "Python 3"
    },
    "language_info": {
      "name": "python"
    }
  },
  "cells": [
    {
      "cell_type": "markdown",
      "metadata": {
        "id": "qRX8IUsJtKF8"
      },
      "source": [
        "# **Tipos de dados em Python**\n",
        "# Lista\n",
        "\n",
        "1. **Booleans:** True ou False\n",
        "2. **Números:** int, float, complex\n",
        "3. **Strings:** caracteres\n",
        "4. **Listas:** Sequências ordenadas de valores\n",
        "5. **Tuplas:** Sequências ordenadas imutáveis de valores.\n",
        "6. **Conjuntos:** Conjunto como na matemáática $\\to$ Conjunto desordenado de valores (União/intersecção)\n",
        "7. **Dicionários:** Pares desordenados de chave-valor"
      ]
    },
    {
      "cell_type": "markdown",
      "metadata": {
        "id": "Bw3TBOC9x9Bx"
      },
      "source": [
        "Vamos iniciar com as listas"
      ]
    },
    {
      "cell_type": "code",
      "metadata": {
        "colab": {
          "base_uri": "https://localhost:8080/"
        },
        "id": "rlvFD385rt1Y",
        "outputId": "5821d9f2-8756-4283-865e-6fc1737ffe8b"
      },
      "source": [
        "# As listas são designadas utilizando []\n",
        "# lista vazia\n",
        "L1 = []\n",
        "# lista com inteiros somente\n",
        "L2 = [10, 20, 30]\n",
        "# lista heterogenea\n",
        "L3 = [1, \"Hello\", 3.4]\n",
        "\n",
        "print(\"L1:\", L1)\n",
        "print(\"L2:\", L2)\n",
        "print(\"L3:\", L3)"
      ],
      "execution_count": null,
      "outputs": [
        {
          "output_type": "stream",
          "text": [
            "L1: []\n",
            "L2: [10, 20, 30]\n",
            "L3: [1, 'Hello', 3.4]\n"
          ],
          "name": "stdout"
        }
      ]
    },
    {
      "cell_type": "code",
      "metadata": {
        "colab": {
          "base_uri": "https://localhost:8080/"
        },
        "id": "PbBmICGqyLMB",
        "outputId": "719dcb4c-32d3-4d1e-eac3-63780e19a678"
      },
      "source": [
        "# podemos adicionar as listas (concatenar)\n",
        "L2+L3"
      ],
      "execution_count": null,
      "outputs": [
        {
          "output_type": "execute_result",
          "data": {
            "text/plain": [
              "[10, 20, 30, 1, 'Hello', 3.4]"
            ]
          },
          "metadata": {
            "tags": []
          },
          "execution_count": 2
        }
      ]
    },
    {
      "cell_type": "code",
      "metadata": {
        "colab": {
          "base_uri": "https://localhost:8080/"
        },
        "id": "zHh1MaCwyc4y",
        "outputId": "ad56e4cb-3ac5-4146-eef3-31eb31e1de6e"
      },
      "source": [
        "# Guardar em uma nova variável (nova lista)\n",
        "new_L = L2+L3\n",
        "print(new_L)"
      ],
      "execution_count": null,
      "outputs": [
        {
          "output_type": "stream",
          "text": [
            "[10, 20, 30, 1, 'Hello', 3.4]\n"
          ],
          "name": "stdout"
        }
      ]
    },
    {
      "cell_type": "code",
      "metadata": {
        "colab": {
          "base_uri": "https://localhost:8080/"
        },
        "id": "xDxZZo0DBFBv",
        "outputId": "9b04e83e-3822-4295-ad92-818fbbb64270"
      },
      "source": [
        "# retorna um boolean. Será útil com\n",
        "3.4 in new_L"
      ],
      "execution_count": null,
      "outputs": [
        {
          "output_type": "execute_result",
          "data": {
            "text/plain": [
              "True"
            ]
          },
          "metadata": {
            "tags": []
          },
          "execution_count": 4
        }
      ]
    },
    {
      "cell_type": "markdown",
      "metadata": {
        "id": "A7i8mCXBytUF"
      },
      "source": [
        "# **A lista é uma sequência ordenada**\n",
        "\n",
        "Lembrando que a sequência crescente inicia do 0"
      ]
    },
    {
      "cell_type": "code",
      "metadata": {
        "colab": {
          "base_uri": "https://localhost:8080/"
        },
        "id": "D27RHaMvyoEZ",
        "outputId": "73a4fa89-3c6a-44cd-f84d-d2a782aa1e04"
      },
      "source": [
        "# indice:  0,1,2,3,4,5,6\n",
        "# indice: -7,-6,-5,-4,-3,-2,-1\n",
        "thislist = [\"apple\", \"banana\", \"cherry\", \"orange\", \"kiwi\", \"melon\", \"mango\"]\n",
        "print(thislist[0])\n",
        "print(thislist[6])\n",
        "print(thislist[-5])\n",
        "\n",
        "# Fatiar a lista (lembre de strings!)\n",
        "print(thislist[2:5])\n",
        "\n",
        "# Stride\n",
        "print(thislist[::2])"
      ],
      "execution_count": null,
      "outputs": [
        {
          "output_type": "stream",
          "text": [
            "apple\n",
            "mango\n",
            "cherry\n",
            "['cherry', 'orange', 'kiwi']\n",
            "['apple', 'cherry', 'kiwi', 'mango']\n"
          ],
          "name": "stdout"
        }
      ]
    },
    {
      "cell_type": "markdown",
      "metadata": {
        "id": "g-MOnQV60FdW"
      },
      "source": [
        "**O tamanho de uma lista (números de elementos). Pense num algoritmo para executar essa tarefa**"
      ]
    },
    {
      "cell_type": "code",
      "metadata": {
        "colab": {
          "base_uri": "https://localhost:8080/"
        },
        "id": "zsRswqE2zCJF",
        "outputId": "5fd5a9cb-0b87-4f2a-ded6-d9d9136e69cf"
      },
      "source": [
        "# O tamanho de uma lista\n",
        "len(L3)"
      ],
      "execution_count": null,
      "outputs": [
        {
          "output_type": "execute_result",
          "data": {
            "text/plain": [
              "3"
            ]
          },
          "metadata": {
            "tags": []
          },
          "execution_count": 6
        }
      ]
    },
    {
      "cell_type": "code",
      "metadata": {
        "colab": {
          "base_uri": "https://localhost:8080/"
        },
        "id": "aLAdtBOmzYs3",
        "outputId": "794962b8-a825-4892-ee19-ff84bc6273cf"
      },
      "source": [
        "# append e extend\n",
        "fruits = [\"apple\", \"banana\", \"cherry\", \"orange\", \"kiwi\", \"melon\", \"mango\"]\n",
        "new_fruits = [\"watermelon\", \"blueberry\"]\n",
        "\n",
        "# append() adiciona um novo elemento ao final da lista\n",
        "fruits.append(\"coconut\")\n",
        "fruits"
      ],
      "execution_count": null,
      "outputs": [
        {
          "output_type": "execute_result",
          "data": {
            "text/plain": [
              "['apple', 'banana', 'cherry', 'orange', 'kiwi', 'melon', 'mango', 'coconut']"
            ]
          },
          "metadata": {
            "tags": []
          },
          "execution_count": 7
        }
      ]
    },
    {
      "cell_type": "code",
      "metadata": {
        "colab": {
          "base_uri": "https://localhost:8080/"
        },
        "id": "DcJCkDaM0xJ8",
        "outputId": "e1d4ec81-40ab-4b4f-d26a-a255e423f92a"
      },
      "source": [
        "# extend() adiciona uma nova lista ao final da lista original\n",
        "fruits.extend(new_fruits)\n",
        "fruits"
      ],
      "execution_count": null,
      "outputs": [
        {
          "output_type": "execute_result",
          "data": {
            "text/plain": [
              "['apple',\n",
              " 'banana',\n",
              " 'cherry',\n",
              " 'orange',\n",
              " 'kiwi',\n",
              " 'melon',\n",
              " 'mango',\n",
              " 'coconut',\n",
              " 'watermelon',\n",
              " 'blueberry']"
            ]
          },
          "metadata": {
            "tags": []
          },
          "execution_count": 8
        }
      ]
    },
    {
      "cell_type": "markdown",
      "metadata": {
        "id": "heHnoM691zUe"
      },
      "source": [
        "Diferença entre listas e tuplas: Lista é **mutável**"
      ]
    },
    {
      "cell_type": "code",
      "metadata": {
        "colab": {
          "base_uri": "https://localhost:8080/"
        },
        "id": "a2HcijOL1uSl",
        "outputId": "b2a2b088-f7cc-4dcb-8950-705a3c3d8347"
      },
      "source": [
        "# lista é mutável!!\n",
        "fruits[5] = \"COCA-COLA\"\n",
        "fruits"
      ],
      "execution_count": null,
      "outputs": [
        {
          "output_type": "execute_result",
          "data": {
            "text/plain": [
              "['apple',\n",
              " 'banana',\n",
              " 'cherry',\n",
              " 'orange',\n",
              " 'kiwi',\n",
              " 'COCA-COLA',\n",
              " 'mango',\n",
              " 'coconut',\n",
              " 'watermelon',\n",
              " 'blueberry']"
            ]
          },
          "metadata": {
            "tags": []
          },
          "execution_count": 9
        }
      ]
    },
    {
      "cell_type": "code",
      "metadata": {
        "colab": {
          "base_uri": "https://localhost:8080/"
        },
        "id": "NkrEnpKm17K-",
        "outputId": "43a6a504-549d-4de2-c181-d3b236205796"
      },
      "source": [
        "# constructor de lista\n",
        "# Transforma em lista (note que nãão utilizamos o [] )\n",
        "months = list( ('jan', 'feb', 'mar', 'apr', 'may', 'jun', 'jul', 'aug', 'sep', 'oct', 'nov', 'dec') )\n",
        "months"
      ],
      "execution_count": null,
      "outputs": [
        {
          "output_type": "execute_result",
          "data": {
            "text/plain": [
              "['jan',\n",
              " 'feb',\n",
              " 'mar',\n",
              " 'apr',\n",
              " 'may',\n",
              " 'jun',\n",
              " 'jul',\n",
              " 'aug',\n",
              " 'sep',\n",
              " 'oct',\n",
              " 'nov',\n",
              " 'dec']"
            ]
          },
          "metadata": {
            "tags": []
          },
          "execution_count": 10
        }
      ]
    },
    {
      "cell_type": "code",
      "metadata": {
        "colab": {
          "base_uri": "https://localhost:8080/"
        },
        "id": "Rb86SczB73dT",
        "outputId": "8ff983b6-b911-4e5a-f213-3849fcf2a345"
      },
      "source": [
        "\n",
        "L4 = [0,1,2,3,4,5,6,7]\n",
        "L5 = [9,10,11]\n",
        "\n",
        "# append()\n",
        "L4.append(8)\n",
        "print(L4)\n",
        "\n",
        "# extend()\n",
        "L4.extend(L5)\n",
        "print(L4)\n",
        "\n",
        "# insert(posição_na_lista , elemento)\n",
        "L4.insert(12,12)\n",
        "print(L4)\n",
        "\n",
        "# copy\n",
        "copy_L4 = L4.copy()\n",
        "print(copy_L4)\n",
        "\n",
        "# count: contar número de elementos com um valor específico\n",
        "L4.count(4)\n",
        "\n",
        "# Procurar indice do elemento\n",
        "L4.index(5)\n",
        "\n",
        "# pop: remove um elemento de uma posição especificada\n",
        "L4.pop(6)\n",
        "print(L4)\n",
        "\n",
        "# remove: removes um item específico da lista\n",
        "L4.remove(12)\n",
        "print(L4)\n",
        "\n",
        "# inverte a ordem da lista\n",
        "L4.reverse()\n",
        "print(L4)\n",
        "\n",
        "# ordena a lista\n",
        "scramble = [0,8,6,13,115,9,86]\n",
        "scramble.sort()\n",
        "print(scramble)"
      ],
      "execution_count": null,
      "outputs": [
        {
          "output_type": "stream",
          "text": [
            "[0, 1, 2, 3, 4, 5, 6, 7, 8]\n",
            "[0, 1, 2, 3, 4, 5, 6, 7, 8, 9, 10, 11]\n",
            "[0, 1, 2, 3, 4, 5, 6, 7, 8, 9, 10, 11, 12]\n",
            "[0, 1, 2, 3, 4, 5, 6, 7, 8, 9, 10, 11, 12]\n",
            "[0, 1, 2, 3, 4, 5, 7, 8, 9, 10, 11, 12]\n",
            "[0, 1, 2, 3, 4, 5, 7, 8, 9, 10, 11]\n",
            "[11, 10, 9, 8, 7, 5, 4, 3, 2, 1, 0]\n",
            "[0, 6, 8, 9, 13, 86, 115]\n"
          ],
          "name": "stdout"
        }
      ]
    },
    {
      "cell_type": "markdown",
      "metadata": {
        "id": "sgT6Ah4d-Fea"
      },
      "source": [
        "O operador \"=\" não copia uma lista!"
      ]
    },
    {
      "cell_type": "code",
      "metadata": {
        "colab": {
          "base_uri": "https://localhost:8080/"
        },
        "id": "NnMlkZKY8rqn",
        "outputId": "073f61a0-fc76-4051-d554-0c49b00a0f77"
      },
      "source": [
        "# utilizando o operador de designio para \"copiar\"\n",
        "new_copy = L4\n",
        "new_copy"
      ],
      "execution_count": null,
      "outputs": [
        {
          "output_type": "execute_result",
          "data": {
            "text/plain": [
              "[11, 10, 9, 8, 7, 5, 4, 3, 2, 1, 0]"
            ]
          },
          "metadata": {
            "tags": []
          },
          "execution_count": 12
        }
      ]
    },
    {
      "cell_type": "code",
      "metadata": {
        "colab": {
          "base_uri": "https://localhost:8080/"
        },
        "id": "OBtN3s2f9ft8",
        "outputId": "5003475c-e581-4522-ef68-a89c49efa090"
      },
      "source": [
        "# alteração na lista 4, reflete na copia\n",
        "L4.remove(9)\n",
        "new_copy"
      ],
      "execution_count": null,
      "outputs": [
        {
          "output_type": "execute_result",
          "data": {
            "text/plain": [
              "[11, 10, 8, 7, 5, 4, 3, 2, 1, 0]"
            ]
          },
          "metadata": {
            "tags": []
          },
          "execution_count": 13
        }
      ]
    },
    {
      "cell_type": "markdown",
      "metadata": {
        "id": "wpB_qbKF_CSK"
      },
      "source": [
        "Os elementos de uma lista podem ser qualquer tipo de dado do Python"
      ]
    },
    {
      "cell_type": "code",
      "metadata": {
        "colab": {
          "base_uri": "https://localhost:8080/"
        },
        "id": "F92A3rlH-CQr",
        "outputId": "5eee7ae9-541f-424a-9cb5-410337facb08"
      },
      "source": [
        "# inception! lista dentro de lista\n",
        "inception = [[0,1,4],[1,1,1],[2,5,6]]\n",
        "inception"
      ],
      "execution_count": null,
      "outputs": [
        {
          "output_type": "execute_result",
          "data": {
            "text/plain": [
              "[[0, 1, 4], [1, 1, 1], [2, 5, 6]]"
            ]
          },
          "metadata": {
            "tags": []
          },
          "execution_count": 14
        }
      ]
    },
    {
      "cell_type": "code",
      "metadata": {
        "colab": {
          "base_uri": "https://localhost:8080/"
        },
        "id": "ML_wKNba_Kci",
        "outputId": "ba277564-9624-42e5-8478-815be1a78e9d"
      },
      "source": [
        "# O índice acessa o elemento\n",
        "inception[0]"
      ],
      "execution_count": null,
      "outputs": [
        {
          "output_type": "execute_result",
          "data": {
            "text/plain": [
              "[0, 1, 4]"
            ]
          },
          "metadata": {
            "tags": []
          },
          "execution_count": 15
        }
      ]
    },
    {
      "cell_type": "code",
      "metadata": {
        "colab": {
          "base_uri": "https://localhost:8080/"
        },
        "id": "KvVH3wa1_PsQ",
        "outputId": "753ade9a-e815-4395-ccf2-39afa83aef00"
      },
      "source": [
        "# 2 indices: acessar as listas internas\n",
        "inception[0][1]"
      ],
      "execution_count": null,
      "outputs": [
        {
          "output_type": "execute_result",
          "data": {
            "text/plain": [
              "1"
            ]
          },
          "metadata": {
            "tags": []
          },
          "execution_count": 16
        }
      ]
    },
    {
      "cell_type": "markdown",
      "metadata": {
        "id": "E0khGs2m_YV3"
      },
      "source": [
        "Exercício: crie sua própria lista e:\n",
        "1. Acesse cada elemento\n",
        "2. Fatie a lista de diferentes formas\n",
        "3. Use as funções mostradas"
      ]
    },
    {
      "cell_type": "code",
      "metadata": {
        "id": "Kvj_uWrJ_Xc9"
      },
      "source": [
        ""
      ],
      "execution_count": null,
      "outputs": []
    },
    {
      "cell_type": "code",
      "metadata": {
        "id": "5jxXZFFLE2Ny"
      },
      "source": [
        ""
      ],
      "execution_count": null,
      "outputs": []
    }
  ]
}