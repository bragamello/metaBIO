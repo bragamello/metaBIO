{
  "nbformat": 4,
  "nbformat_minor": 0,
  "metadata": {
    "colab": {
      "name": "io_basico.ipynb",
      "provenance": []
    },
    "kernelspec": {
      "name": "python3",
      "display_name": "Python 3"
    },
    "language_info": {
      "name": "python"
    }
  },
  "cells": [
    {
      "cell_type": "code",
      "metadata": {
        "colab": {
          "base_uri": "https://localhost:8080/"
        },
        "id": "T84sorLsnivs",
        "outputId": "15a6f4b4-0a89-43c7-862e-bd9519eaa421"
      },
      "source": [
        "# Introdução a programação em Python\n",
        "# Exemplo: o i/o mais simples\n",
        "# funções input()/print()\n",
        "\n",
        "# input do teclado\n",
        "user = input(\"Insert login:\")\n",
        "print(\"hello,\", user)"
      ],
      "execution_count": null,
      "outputs": [
        {
          "output_type": "stream",
          "text": [
            "Insert login:victor\n",
            "hello, victor\n"
          ],
          "name": "stdout"
        }
      ]
    },
    {
      "cell_type": "markdown",
      "metadata": {
        "id": "VgBz3Bucn4op"
      },
      "source": [
        "**O resultado da função input() é uma string!**"
      ]
    },
    {
      "cell_type": "code",
      "metadata": {
        "colab": {
          "base_uri": "https://localhost:8080/"
        },
        "id": "4R_q1n4cnyC2",
        "outputId": "81652f3d-ea96-4a9b-c641-14e271dfcf12"
      },
      "source": [
        "# insira um número\n",
        "number = input(\"insira um número:\")\n",
        "type(number)"
      ],
      "execution_count": null,
      "outputs": [
        {
          "output_type": "stream",
          "text": [
            "insira um número:56\n"
          ],
          "name": "stdout"
        },
        {
          "output_type": "execute_result",
          "data": {
            "text/plain": [
              "str"
            ]
          },
          "metadata": {
            "tags": []
          },
          "execution_count": 3
        }
      ]
    },
    {
      "cell_type": "code",
      "metadata": {
        "colab": {
          "base_uri": "https://localhost:8080/"
        },
        "id": "rUuJTY4voISF",
        "outputId": "54599700-e9eb-4155-cac0-7d8e74e8c1a1"
      },
      "source": [
        "# em script, peça para imprimir explicitamente\n",
        "print(type(number))"
      ],
      "execution_count": null,
      "outputs": [
        {
          "output_type": "stream",
          "text": [
            "<class 'str'>\n"
          ],
          "name": "stdout"
        }
      ]
    },
    {
      "cell_type": "markdown",
      "metadata": {
        "id": "m0ZYpMGvo-wF"
      },
      "source": [
        "**Tipagem dinâmica e forte**\n",
        "\n",
        "1. **Dinâmica:** Tipo do dado muda dinamicamente ao longo do código\n",
        "2. **Forte:** O dado não pode ser utilizado como se fosse um tipo diferente "
      ]
    },
    {
      "cell_type": "code",
      "metadata": {
        "colab": {
          "base_uri": "https://localhost:8080/",
          "height": 202
        },
        "id": "X5wMeZyBoxOc",
        "outputId": "f9fd7ff3-bd7e-45a8-e07b-81ffe1ff05d3"
      },
      "source": [
        "# Erro! number não é int ou float (numérico)\n",
        "next = number + 1\n",
        "next"
      ],
      "execution_count": null,
      "outputs": [
        {
          "output_type": "error",
          "ename": "TypeError",
          "evalue": "ignored",
          "traceback": [
            "\u001b[0;31m---------------------------------------------------------------------------\u001b[0m",
            "\u001b[0;31mTypeError\u001b[0m                                 Traceback (most recent call last)",
            "\u001b[0;32m<ipython-input-5-ae93b7358c72>\u001b[0m in \u001b[0;36m<module>\u001b[0;34m()\u001b[0m\n\u001b[1;32m      1\u001b[0m \u001b[0;31m# Erro! number não é int ou float (numérico)\u001b[0m\u001b[0;34m\u001b[0m\u001b[0;34m\u001b[0m\u001b[0;34m\u001b[0m\u001b[0m\n\u001b[0;32m----> 2\u001b[0;31m \u001b[0mnext\u001b[0m \u001b[0;34m=\u001b[0m \u001b[0mnumber\u001b[0m \u001b[0;34m+\u001b[0m \u001b[0;36m1\u001b[0m\u001b[0;34m\u001b[0m\u001b[0;34m\u001b[0m\u001b[0m\n\u001b[0m\u001b[1;32m      3\u001b[0m \u001b[0mnext\u001b[0m\u001b[0;34m\u001b[0m\u001b[0;34m\u001b[0m\u001b[0m\n",
            "\u001b[0;31mTypeError\u001b[0m: can only concatenate str (not \"int\") to str"
          ]
        }
      ]
    },
    {
      "cell_type": "markdown",
      "metadata": {
        "id": "GJvgTjWDpyAU"
      },
      "source": [
        "Por ser uma string, podemos fazer:"
      ]
    },
    {
      "cell_type": "code",
      "metadata": {
        "colab": {
          "base_uri": "https://localhost:8080/",
          "height": 35
        },
        "id": "RKrmxgP0o7B4",
        "outputId": "3d797051-3a22-415a-d3e7-e0435591905d"
      },
      "source": [
        "# concatena strings. Não dará o resultado numérico \n",
        "next = number + '1'\n",
        "next"
      ],
      "execution_count": null,
      "outputs": [
        {
          "output_type": "execute_result",
          "data": {
            "application/vnd.google.colaboratory.intrinsic+json": {
              "type": "string"
            },
            "text/plain": [
              "'561'"
            ]
          },
          "metadata": {
            "tags": []
          },
          "execution_count": 7
        }
      ]
    },
    {
      "cell_type": "markdown",
      "metadata": {
        "id": "gybfSkM4qByi"
      },
      "source": [
        "Para obter o próximo número, devemos transformar o resultado da função input() em número"
      ]
    },
    {
      "cell_type": "code",
      "metadata": {
        "colab": {
          "base_uri": "https://localhost:8080/"
        },
        "id": "ok-nVJe4pVbA",
        "outputId": "fd9bc0d4-fae2-4df5-b111-38d14f01133a"
      },
      "source": [
        "# Transformar em número int\n",
        "next = int(number) + 1\n",
        "next"
      ],
      "execution_count": null,
      "outputs": [
        {
          "output_type": "execute_result",
          "data": {
            "text/plain": [
              "57"
            ]
          },
          "metadata": {
            "tags": []
          },
          "execution_count": 8
        }
      ]
    },
    {
      "cell_type": "code",
      "metadata": {
        "colab": {
          "base_uri": "https://localhost:8080/"
        },
        "id": "nvuoc-JyqOxO",
        "outputId": "bdfba7a3-a764-4ca5-d62a-1a75f7230bbd"
      },
      "source": [
        "# Transformar em número\n",
        "next = float(number) + 1\n",
        "next"
      ],
      "execution_count": null,
      "outputs": [
        {
          "output_type": "execute_result",
          "data": {
            "text/plain": [
              "57.0"
            ]
          },
          "metadata": {
            "tags": []
          },
          "execution_count": 9
        }
      ]
    },
    {
      "cell_type": "code",
      "metadata": {
        "id": "c-bkqB6YqSe0",
        "colab": {
          "base_uri": "https://localhost:8080/"
        },
        "outputId": "a6fb9b5e-3a46-4f73-f645-d55caaafce97"
      },
      "source": [
        "a = 56\n",
        "b = str(a)\n",
        "type(b)"
      ],
      "execution_count": null,
      "outputs": [
        {
          "output_type": "execute_result",
          "data": {
            "text/plain": [
              "str"
            ]
          },
          "metadata": {
            "tags": []
          },
          "execution_count": 11
        }
      ]
    },
    {
      "cell_type": "code",
      "metadata": {
        "id": "ZFniWYgi5mLO"
      },
      "source": [
        ""
      ],
      "execution_count": null,
      "outputs": []
    }
  ]
}