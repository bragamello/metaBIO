{
  "nbformat": 4,
  "nbformat_minor": 0,
  "metadata": {
    "colab": {
      "name": "loops.ipynb",
      "provenance": []
    },
    "kernelspec": {
      "name": "python3",
      "display_name": "Python 3"
    },
    "language_info": {
      "name": "python"
    }
  },
  "cells": [
    {
      "cell_type": "markdown",
      "metadata": {
        "id": "z9ewGdMPKqZJ"
      },
      "source": [
        "# **Estrutura de repetição**\n",
        "\n",
        "Os chamados loops são uma estrutura de fluxo de controle que repetem um bloco de código (uma tarefa) enquanto uma condição for satisfeita (comparação de Booleans!)"
      ]
    },
    {
      "cell_type": "markdown",
      "metadata": {
        "id": "xsZbGLZJLE1h"
      },
      "source": [
        "# 1. Loops for\n",
        "\n",
        "Vamos utilizar a função range() (iterador). Enquanto o valor estiver dentro dos estabelecidos pelo iterador\n",
        "\n",
        "**Uso da range()** $\\to$ range(inicio, parada, passo)\n",
        "\n",
        "1. o valor de parada não está incluido nos valores\n",
        "2. o valor padrão (default) do passo é 1"
      ]
    },
    {
      "cell_type": "code",
      "metadata": {
        "colab": {
          "base_uri": "https://localhost:8080/"
        },
        "id": "bsD_sxo2KjEe",
        "outputId": "995801e0-b251-4042-9628-00d4d3db611c"
      },
      "source": [
        "# for loop: usamos a função range()\n",
        "# enquanto i in range() retorna True\n",
        "for i in range(10):\n",
        "  print(i)"
      ],
      "execution_count": null,
      "outputs": [
        {
          "output_type": "stream",
          "text": [
            "0\n",
            "1\n",
            "2\n",
            "3\n",
            "4\n",
            "5\n",
            "6\n",
            "7\n",
            "8\n",
            "9\n"
          ],
          "name": "stdout"
        }
      ]
    },
    {
      "cell_type": "code",
      "metadata": {
        "colab": {
          "base_uri": "https://localhost:8080/"
        },
        "id": "gfDZAGUDLQ15",
        "outputId": "248a3796-973d-45bb-8822-18d3797c3aa4"
      },
      "source": [
        "# alterando a função range()\n",
        "for i in range(5,10):\n",
        "  print(i)"
      ],
      "execution_count": null,
      "outputs": [
        {
          "output_type": "stream",
          "text": [
            "5\n",
            "6\n",
            "7\n",
            "8\n",
            "9\n"
          ],
          "name": "stdout"
        }
      ]
    },
    {
      "cell_type": "code",
      "metadata": {
        "colab": {
          "base_uri": "https://localhost:8080/"
        },
        "id": "WMesLdq0LeKZ",
        "outputId": "f5e84a40-1b7a-4661-c946-52f4af7d98dc"
      },
      "source": [
        "for i in range(0,100,20):\n",
        "  print(i)"
      ],
      "execution_count": null,
      "outputs": [
        {
          "output_type": "stream",
          "text": [
            "0\n",
            "20\n",
            "40\n",
            "60\n",
            "80\n"
          ],
          "name": "stdout"
        }
      ]
    },
    {
      "cell_type": "code",
      "metadata": {
        "colab": {
          "base_uri": "https://localhost:8080/"
        },
        "id": "Xyo5CjqRLexq",
        "outputId": "107cd347-1691-47e1-c1a6-620d6abbe66d"
      },
      "source": [
        "# podemos utilizar negativos com a range\n",
        "for i in range(10,0,-1):\n",
        "  print(i)"
      ],
      "execution_count": null,
      "outputs": [
        {
          "output_type": "stream",
          "text": [
            "10\n",
            "9\n",
            "8\n",
            "7\n",
            "6\n",
            "5\n",
            "4\n",
            "3\n",
            "2\n",
            "1\n"
          ],
          "name": "stdout"
        }
      ]
    },
    {
      "cell_type": "markdown",
      "metadata": {
        "id": "n7Sg_DXtM8yO"
      },
      "source": [
        "# 2. Loop while\n",
        "\n",
        "Utiliza a condição mais explicitamente"
      ]
    },
    {
      "cell_type": "code",
      "metadata": {
        "colab": {
          "base_uri": "https://localhost:8080/"
        },
        "id": "PI0fkBAFM1c7",
        "outputId": "12304a4d-d7f5-44c3-d69a-bd26df510a94"
      },
      "source": [
        "# while loop \n",
        "i = 0\n",
        "\n",
        "# enquanto a condição i < 10 retornar True\n",
        "while i < 10:\n",
        "  print(i)\n",
        "  # versão curta i+=1\n",
        "  i=i+1"
      ],
      "execution_count": null,
      "outputs": [
        {
          "output_type": "stream",
          "text": [
            "0\n",
            "1\n",
            "2\n",
            "3\n",
            "4\n",
            "5\n",
            "6\n",
            "7\n",
            "8\n",
            "9\n"
          ],
          "name": "stdout"
        }
      ]
    },
    {
      "cell_type": "markdown",
      "metadata": {
        "id": "RzS7-_xEN9Ki"
      },
      "source": [
        "Uso dos loops com diferentes tipos de dados do Python"
      ]
    },
    {
      "cell_type": "code",
      "metadata": {
        "colab": {
          "base_uri": "https://localhost:8080/"
        },
        "id": "ciL1Pk8CNTF0",
        "outputId": "3b89734b-9249-4db4-ee05-59ac667ebbfa"
      },
      "source": [
        "# loop nos caracteres de uma string\n",
        "thisstring = \"victor\"\n",
        "for x in thisstring:\n",
        "  print(x) "
      ],
      "execution_count": null,
      "outputs": [
        {
          "output_type": "stream",
          "text": [
            "v\n",
            "i\n",
            "c\n",
            "t\n",
            "o\n",
            "r\n"
          ],
          "name": "stdout"
        }
      ]
    },
    {
      "cell_type": "code",
      "metadata": {
        "colab": {
          "base_uri": "https://localhost:8080/"
        },
        "id": "H8Bwnr_TOHhZ",
        "outputId": "2dba8be6-0f63-4d54-822e-7a34c1aa0f4f"
      },
      "source": [
        "# loop nos elementos de uma lista\n",
        "thislist = [\"apple\", \"banana\", \"cherry\"]\n",
        "for x in thislist:\n",
        "  print(x) "
      ],
      "execution_count": null,
      "outputs": [
        {
          "output_type": "stream",
          "text": [
            "apple\n",
            "banana\n",
            "cherry\n"
          ],
          "name": "stdout"
        }
      ]
    },
    {
      "cell_type": "code",
      "metadata": {
        "colab": {
          "base_uri": "https://localhost:8080/"
        },
        "id": "pNrTiyqUONFi",
        "outputId": "bf25091c-fdd2-46d5-ed24-24886772eaba"
      },
      "source": [
        "# loop nos elementos de uma tupla\n",
        "thistuple = (\"apple\", \"banana\", 3, 2, [1,2])\n",
        "for x in thistuple:\n",
        "  print(x) "
      ],
      "execution_count": null,
      "outputs": [
        {
          "output_type": "stream",
          "text": [
            "apple\n",
            "banana\n",
            "3\n",
            "2\n",
            "[1, 2]\n"
          ],
          "name": "stdout"
        }
      ]
    },
    {
      "cell_type": "code",
      "metadata": {
        "colab": {
          "base_uri": "https://localhost:8080/"
        },
        "id": "afh96V0NORz3",
        "outputId": "6e58a3ad-5ee2-48a2-bc1e-ac2b9974ccc7"
      },
      "source": [
        "# loop no dicionario\n",
        "# palavras chaves\n",
        "thisdict = {\"number\": 1, \"name\":\"victor\", \"class\": 1000}\n",
        "for x in thisdict:\n",
        "  print(x) \n",
        "\n",
        "# loop no dicionario\n",
        "# valores\n",
        "for x in thisdict.values():\n",
        "  print(x) "
      ],
      "execution_count": null,
      "outputs": [
        {
          "output_type": "stream",
          "text": [
            "number\n",
            "name\n",
            "class\n",
            "1\n",
            "victor\n",
            "1000\n"
          ],
          "name": "stdout"
        }
      ]
    },
    {
      "cell_type": "code",
      "metadata": {
        "colab": {
          "base_uri": "https://localhost:8080/"
        },
        "id": "VWMjl8_UOagG",
        "outputId": "20a2245a-954f-4cf2-a523-b51542224e13"
      },
      "source": [
        "# loop no dicionario\n",
        "# chaves e valores no mesmo loop\n",
        "for x, y in thisdict.items():\n",
        "  print(x, y)\n",
        "\n",
        "# veja que retorna pares de valores\n",
        "thisdict.items()"
      ],
      "execution_count": null,
      "outputs": [
        {
          "output_type": "stream",
          "text": [
            "number 1\n",
            "name victor\n",
            "class 1000\n"
          ],
          "name": "stdout"
        },
        {
          "output_type": "execute_result",
          "data": {
            "text/plain": [
              "dict_items([('number', 1), ('name', 'victor'), ('class', 1000)])"
            ]
          },
          "metadata": {
            "tags": []
          },
          "execution_count": 25
        }
      ]
    },
    {
      "cell_type": "markdown",
      "metadata": {
        "id": "iUeIQ69VO-FE"
      },
      "source": [
        "A função **Enumerate()**"
      ]
    },
    {
      "cell_type": "code",
      "metadata": {
        "colab": {
          "base_uri": "https://localhost:8080/"
        },
        "id": "-CX0kffrOrHi",
        "outputId": "e2d9689e-f7e8-4324-ddfe-a2aa216c5c5e"
      },
      "source": [
        "# usando enumerate()\n",
        "names = ['knuth', 'torvalds', 'ritchie']\n",
        "for index, value in enumerate(names):\n",
        "  # Note a maneira diferente de usar o print()\n",
        "  print(f'{index}: {value}')"
      ],
      "execution_count": null,
      "outputs": [
        {
          "output_type": "stream",
          "text": [
            "0: knuth\n",
            "1: torvalds\n",
            "2: ritchie\n"
          ],
          "name": "stdout"
        }
      ]
    },
    {
      "cell_type": "code",
      "metadata": {
        "colab": {
          "base_uri": "https://localhost:8080/"
        },
        "id": "Y3Sj_aRpPGhM",
        "outputId": "21f3471f-983a-461e-9c3b-fc6213528f32"
      },
      "source": [
        "# usando enumerate()\n",
        "# Note a maneira de usar o print() usando .format()\n",
        "names = ['knuth', 'torvalds', 'ritchie']\n",
        "for index, value in enumerate(names):\n",
        "    print('{}: {}'.format(index, value))"
      ],
      "execution_count": null,
      "outputs": [
        {
          "output_type": "stream",
          "text": [
            "0: knuth\n",
            "1: torvalds\n",
            "2: ritchie\n"
          ],
          "name": "stdout"
        }
      ]
    },
    {
      "cell_type": "code",
      "metadata": {
        "colab": {
          "base_uri": "https://localhost:8080/"
        },
        "id": "Miwfm4B2PLJO",
        "outputId": "c26ecda1-78a2-4b6b-eac4-d3e0831ff693"
      },
      "source": [
        "# enumerate é idêntico a esse bloco\n",
        "# diferença: o indice é colocado na mão\n",
        "# pode gerar erros\n",
        "for i in range(len(names)):\n",
        "    print('{}: {}'.format(i, names[i]))"
      ],
      "execution_count": null,
      "outputs": [
        {
          "output_type": "stream",
          "text": [
            "0: knuth\n",
            "1: torvalds\n",
            "2: ritchie\n"
          ],
          "name": "stdout"
        }
      ]
    },
    {
      "cell_type": "code",
      "metadata": {
        "colab": {
          "base_uri": "https://localhost:8080/"
        },
        "id": "yeXv_eKVPOC6",
        "outputId": "bfd44f5a-dd1d-4ded-88e1-180449edeb26"
      },
      "source": [
        "# nested loops\n",
        "for i in range(10):\n",
        "  for j in range(10):\n",
        "    print(\"oi\")\n",
        "  print(i,j)"
      ],
      "execution_count": null,
      "outputs": [
        {
          "output_type": "stream",
          "text": [
            "oi\n",
            "oi\n",
            "oi\n",
            "oi\n",
            "oi\n",
            "oi\n",
            "oi\n",
            "oi\n",
            "oi\n",
            "oi\n",
            "0 9\n",
            "oi\n",
            "oi\n",
            "oi\n",
            "oi\n",
            "oi\n",
            "oi\n",
            "oi\n",
            "oi\n",
            "oi\n",
            "oi\n",
            "1 9\n",
            "oi\n",
            "oi\n",
            "oi\n",
            "oi\n",
            "oi\n",
            "oi\n",
            "oi\n",
            "oi\n",
            "oi\n",
            "oi\n",
            "2 9\n",
            "oi\n",
            "oi\n",
            "oi\n",
            "oi\n",
            "oi\n",
            "oi\n",
            "oi\n",
            "oi\n",
            "oi\n",
            "oi\n",
            "3 9\n",
            "oi\n",
            "oi\n",
            "oi\n",
            "oi\n",
            "oi\n",
            "oi\n",
            "oi\n",
            "oi\n",
            "oi\n",
            "oi\n",
            "4 9\n",
            "oi\n",
            "oi\n",
            "oi\n",
            "oi\n",
            "oi\n",
            "oi\n",
            "oi\n",
            "oi\n",
            "oi\n",
            "oi\n",
            "5 9\n",
            "oi\n",
            "oi\n",
            "oi\n",
            "oi\n",
            "oi\n",
            "oi\n",
            "oi\n",
            "oi\n",
            "oi\n",
            "oi\n",
            "6 9\n",
            "oi\n",
            "oi\n",
            "oi\n",
            "oi\n",
            "oi\n",
            "oi\n",
            "oi\n",
            "oi\n",
            "oi\n",
            "oi\n",
            "7 9\n",
            "oi\n",
            "oi\n",
            "oi\n",
            "oi\n",
            "oi\n",
            "oi\n",
            "oi\n",
            "oi\n",
            "oi\n",
            "oi\n",
            "8 9\n",
            "oi\n",
            "oi\n",
            "oi\n",
            "oi\n",
            "oi\n",
            "oi\n",
            "oi\n",
            "oi\n",
            "oi\n",
            "oi\n",
            "9 9\n"
          ],
          "name": "stdout"
        }
      ]
    },
    {
      "cell_type": "markdown",
      "metadata": {
        "id": "hhUFGrCV2QgI"
      },
      "source": [
        "# **Break and continue**\n",
        "\n",
        "Comandos que controlam o loop\n"
      ]
    },
    {
      "cell_type": "code",
      "metadata": {
        "id": "qG_EyonRPRVT",
        "colab": {
          "base_uri": "https://localhost:8080/"
        },
        "outputId": "28879fe5-234f-46de-fe2d-483219e7cab3"
      },
      "source": [
        "# break: quebra do loop\n",
        "for i in range(0,100):\n",
        "  if i > 10:\n",
        "    break\n",
        "  print(i)"
      ],
      "execution_count": null,
      "outputs": [
        {
          "output_type": "stream",
          "text": [
            "0\n",
            "1\n",
            "2\n",
            "3\n",
            "4\n",
            "5\n",
            "6\n",
            "7\n",
            "8\n",
            "9\n",
            "10\n"
          ],
          "name": "stdout"
        }
      ]
    },
    {
      "cell_type": "code",
      "metadata": {
        "colab": {
          "base_uri": "https://localhost:8080/"
        },
        "id": "y2GnRdnO4vn6",
        "outputId": "ca49eb52-c4b9-44fb-e38c-441055032c1d"
      },
      "source": [
        "# continue\n",
        "for i in range(0,10):\n",
        "  print(\"hello! first line of the loop\")  \n",
        "  if i > 3:\n",
        "    continue\n",
        "    # nunca vai aparecer\n",
        "    print(\"just after the continue, inside if : \",i)\n",
        "  print(\"just after the continue, outside if: \",i)  "
      ],
      "execution_count": null,
      "outputs": [
        {
          "output_type": "stream",
          "text": [
            "hello! first line of the loop\n",
            "just after the continue, outside if:  0\n",
            "hello! first line of the loop\n",
            "just after the continue, outside if:  1\n",
            "hello! first line of the loop\n",
            "just after the continue, outside if:  2\n",
            "hello! first line of the loop\n",
            "just after the continue, outside if:  3\n",
            "hello! first line of the loop\n",
            "hello! first line of the loop\n",
            "hello! first line of the loop\n",
            "hello! first line of the loop\n",
            "hello! first line of the loop\n",
            "hello! first line of the loop\n"
          ],
          "name": "stdout"
        }
      ]
    },
    {
      "cell_type": "markdown",
      "metadata": {
        "id": "ef0_u6U0RCBf"
      },
      "source": [
        "**Exercício:**\n",
        "Elabore um código que, a partir de uma lista de usuários permitidos e um input() do teclado, verifique se o nome digitado é um dos usuários permitidos. Imprima na tela se o usuário é permitido ou não. Procure por possiveis erros lógicos no seu algoritmo."
      ]
    },
    {
      "cell_type": "code",
      "metadata": {
        "id": "5FaA5i91Rl18"
      },
      "source": [
        "# Exercicio\n",
        "# lista de usuários permitidos\n",
        "allowed = ['victor', 'knuth', 'torvalds', 'rossum', 'turing']\n",
        "\n",
        "# Escreva abaixo o resto do código\n",
        "# resposta abaixo"
      ],
      "execution_count": null,
      "outputs": []
    },
    {
      "cell_type": "code",
      "metadata": {
        "colab": {
          "base_uri": "https://localhost:8080/"
        },
        "id": "kBXBuhO742BV",
        "outputId": "df05a57c-41f3-4792-f075-b2c88d03cd45"
      },
      "source": [
        "#@title Clique aqui para resposta { display-mode: \"form\" }\n",
        "# Estude esse exemplo\n",
        "# Lista de usuarios\n",
        "allowed = ['victor', 'knuth', 'torvalds', 'rossum', 'turing']\n",
        "\n",
        "# pedir login\n",
        "user = input(\"Insert login:\").lower()\n",
        "\n",
        "# testar se é um usuario permitido\n",
        "flag = False\n",
        "for usrtest in allowed:\n",
        "\t# se achar um, pare o loop\n",
        "\tif usrtest == user:\n",
        "\t\tprint(\"hello,\", user)\n",
        "\t\tflag = True\n",
        "\t\tbreak\n",
        "\t# caso contrario, flag = False e continua a procura\n",
        "\telse:\n",
        "\t\tflag = False\n",
        "\t\tcontinue\n",
        "# nenhuma combinação encontrada\n",
        "if flag == False:\n",
        "\tprint(\"Error. User not allowed\")"
      ],
      "execution_count": null,
      "outputs": [
        {
          "output_type": "stream",
          "text": [
            "Insert login:alex\n",
            "Error. User not allowed\n"
          ],
          "name": "stdout"
        }
      ]
    },
    {
      "cell_type": "markdown",
      "metadata": {
        "id": "VXPXRWG8TQtZ"
      },
      "source": [
        "**Exercício:** Elabore um código de verificação de usuário e senha.\n",
        "\n",
        "Assuma que os usuários permitidos e suas senhas são dados. Verifique se o input() do teclado é um dos usuários permitidos (checar usuário e senha!). Imprima na tela se o usuário é permitido ou não. Procure por possiveis erros lógicos no seu algoritmo."
      ]
    },
    {
      "cell_type": "code",
      "metadata": {
        "id": "Dd5Hn0x3j0hL"
      },
      "source": [
        ""
      ],
      "execution_count": null,
      "outputs": []
    }
  ]
}