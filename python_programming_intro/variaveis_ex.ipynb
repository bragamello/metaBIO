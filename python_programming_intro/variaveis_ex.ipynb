{
  "nbformat": 4,
  "nbformat_minor": 0,
  "metadata": {
    "colab": {
      "name": "variaveis_ex.ipynb",
      "provenance": []
    },
    "kernelspec": {
      "name": "python3",
      "display_name": "Python 3"
    },
    "language_info": {
      "name": "python"
    }
  },
  "cells": [
    {
      "cell_type": "markdown",
      "metadata": {
        "id": "UEU1ikpCAett"
      },
      "source": [
        "# **Exemplo de declaração de variáveis**\n",
        "\n",
        "Para esses primeiros exercícios básicos, vamos utilizar 2 funções básicas de entrada e saída de dados (input/output ou i/o) do Python\n",
        "\n",
        "1. input() $\\to$ lê os dados digitados pelo usuário \n",
        "2. print() $\\to$ Imprime na tela\n",
        "\n",
        "Para rodar as linhas de código no google colab, SHIFT+ENTER\n"
      ]
    },
    {
      "cell_type": "markdown",
      "metadata": {
        "id": "0_sw875aBeKQ"
      },
      "source": [
        "# Linhas de comentário\n",
        "\n",
        "Uma ferramenta importante na programação são as chamadas linhas de comentário. Uma linha iniciada por # será ignorada pelo compilador/interpretador do Python"
      ]
    },
    {
      "cell_type": "code",
      "metadata": {
        "id": "QkeJg6c0BzQA"
      },
      "source": [
        "# Sou uma linha de comentário, o compilador irá me ignorar\n",
        "# Sou útil para deixar informações para outros programadores\n",
        "# Auxilio na legibilidade e entendimento do código"
      ],
      "execution_count": null,
      "outputs": []
    },
    {
      "cell_type": "markdown",
      "metadata": {
        "id": "KP7eZ9DcCc9g"
      },
      "source": [
        "Funcionamento básico da função print()"
      ]
    },
    {
      "cell_type": "code",
      "metadata": {
        "colab": {
          "base_uri": "https://localhost:8080/"
        },
        "id": "cRhWZ917Ca1b",
        "outputId": "f47f0d8d-1eb0-4d68-8a96-8f0244491abe"
      },
      "source": [
        "# Funcionamento básico da função print()\n",
        "print(\"A função print, imprime na tela o que está escrito dentro dos parênteses.\")\n",
        "print('Aspas retas simples ou duplas são usadas para imprimir caracteres como feito aqui!')"
      ],
      "execution_count": null,
      "outputs": [
        {
          "output_type": "stream",
          "text": [
            "A função print, imprime na tela o que está escrito dentro dos parênteses.\n",
            "Aspas retas simples ou duplas são usadas para imprimir caracteres como feito aqui!\n"
          ],
          "name": "stdout"
        }
      ]
    },
    {
      "cell_type": "markdown",
      "metadata": {
        "id": "OOu8-01aEYoS"
      },
      "source": [
        "# Hello world!\n",
        "O primeiro programa"
      ]
    },
    {
      "cell_type": "code",
      "metadata": {
        "colab": {
          "base_uri": "https://localhost:8080/"
        },
        "id": "W22zVX0DEPLj",
        "outputId": "38795f6d-6161-4b82-b0b5-13f7583c663a"
      },
      "source": [
        "# seu primeiro programa: Hello world!\n",
        "print('hello world!')\n",
        "# ou\n",
        "print(\"hello world!\")"
      ],
      "execution_count": null,
      "outputs": [
        {
          "output_type": "stream",
          "text": [
            "hello world!\n",
            "hello world!\n"
          ],
          "name": "stdout"
        }
      ]
    },
    {
      "cell_type": "markdown",
      "metadata": {
        "id": "EX2UedytKzkv"
      },
      "source": [
        "# Declarando variáveis\n",
        "Vamos iniciar declarando algumas variáveis utilizando o operador de desígnio \"=\". Utilizaremos também a função type() do Python que nos informa o tipo da variável"
      ]
    },
    {
      "cell_type": "code",
      "metadata": {
        "colab": {
          "base_uri": "https://localhost:8080/"
        },
        "id": "ch6J9vpKKuv4",
        "outputId": "4368ab2b-307f-4105-d03e-5ac5a6d7f658"
      },
      "source": [
        "# Boolean: True/False. None para uma variáável sem valor algum\n",
        "a = True\n",
        "# Note que podemos imprimir mais de uma \"coisa\" com a função print()\n",
        "# a vírgula separa novas \"coisas\" a serem impressas\n",
        "print(\"A variavel a = \", a , \". O tipo da variável é: \", type(a))"
      ],
      "execution_count": null,
      "outputs": [
        {
          "output_type": "stream",
          "text": [
            "A variavel a =  True . O tipo da variável é:  <class 'bool'>\n"
          ],
          "name": "stdout"
        }
      ]
    },
    {
      "cell_type": "code",
      "metadata": {
        "colab": {
          "base_uri": "https://localhost:8080/"
        },
        "id": "5nWGdHupLmYb",
        "outputId": "46d0c9c3-7393-4c1f-c432-151d4c44f0f2"
      },
      "source": [
        "# Numeros: int, float e complex\n",
        "# O tipo da variavel muda automaticamente -> Tipagem dinâmica e forte\n",
        "num = 1\n",
        "print(\"O numero \", num, \" é do tipo:\", type(num))\n",
        "\n",
        "num = 2.3\n",
        "print(\"O numero \", num, \" é do tipo:\", type(num))\n",
        "\n",
        "# uma possibilidade\n",
        "num = 3+5j\n",
        "print(\"O numero \", num, \" é do tipo:\", type(num))\n",
        "\n",
        "# outra possibilidade\n",
        "num = complex(3,5)\n",
        "print(\"O numero \", num, \" é do tipo:\", type(num))"
      ],
      "execution_count": null,
      "outputs": [
        {
          "output_type": "stream",
          "text": [
            "O numero  1  é do tipo: <class 'int'>\n",
            "O numero  2.3  é do tipo: <class 'float'>\n",
            "O numero  (3+5j)  é do tipo: <class 'complex'>\n",
            "O numero  (3+5j)  é do tipo: <class 'complex'>\n"
          ],
          "name": "stdout"
        }
      ]
    },
    {
      "cell_type": "code",
      "metadata": {
        "colab": {
          "base_uri": "https://localhost:8080/"
        },
        "id": "ptB1rhsuMqns",
        "outputId": "c6f6ba1f-eef0-45f2-a923-0fbd35065361"
      },
      "source": [
        "# String: caracteres\n",
        "string_inPython = 'String em python usando aspas retas simples'\n",
        "print(string_inPython)\n",
        "\n",
        "# aspas retas duplas ou simples\n",
        "string_inPython = \"String em python usando aspas retas duplas\"\n",
        "print(string_inPython)"
      ],
      "execution_count": null,
      "outputs": [
        {
          "output_type": "stream",
          "text": [
            "String em python usando aspas retas simples\n",
            "String em python usando aspas retas duplas\n"
          ],
          "name": "stdout"
        }
      ]
    },
    {
      "cell_type": "markdown",
      "metadata": {
        "id": "MvMuW6SXNDvw"
      },
      "source": [
        "A string é uma sequência de caracteres e podemos acessar cada elemento"
      ]
    },
    {
      "cell_type": "code",
      "metadata": {
        "colab": {
          "base_uri": "https://localhost:8080/"
        },
        "id": "FMoEIxYENL5g",
        "outputId": "e2e741d1-95ef-4415-f003-3f577e4654ea"
      },
      "source": [
        "string_inPython = \"Python String\"\n",
        "# Ordem:\n",
        "# P   y   t   h   o   n       s   t   r   i   n   g\n",
        "# 0   1   2   3   4   5   6   7   8   9   10  11  12\n",
        "#-13 -12 -11 -10 -9  -8  -7  -6  -5  -4   -3  -2  -1\n",
        "print (string_inPython[0])       \n",
        "print (string_inPython[-1])      \n",
        "print (string_inPython[-2])"
      ],
      "execution_count": null,
      "outputs": [
        {
          "output_type": "stream",
          "text": [
            "P\n",
            "g\n",
            "n\n"
          ],
          "name": "stdout"
        }
      ]
    },
    {
      "cell_type": "code",
      "metadata": {
        "colab": {
          "base_uri": "https://localhost:8080/"
        },
        "id": "PurJM1vTPF4f",
        "outputId": "d7ed3990-eb74-4ad9-856e-d9c0d3f3a0de"
      },
      "source": [
        "# Slicing: partes da string\n",
        "print (string_inPython[3:5], \": Atenção! exclui o último\")\n",
        "print (string_inPython[7:], \": Todos caracteres depois do sétimo (incluindo ele)\")\n",
        "print (string_inPython[:7], \": Todos caracteres antes do sétimo (excluindo ele)\")\n",
        "# Utilizando os negativos\n",
        "print (string_inPython[7:-4])\n",
        "# A string completa\n",
        "print (string_inPython[:])"
      ],
      "execution_count": null,
      "outputs": [
        {
          "output_type": "stream",
          "text": [
            "ho : Atenção! exclui o último\n",
            "String : Todos caracteres depois do sétimo (incluindo ele)\n",
            "Python  : Todos caracteres antes do sétimo (excluindo ele)\n",
            "St\n",
            "Python String\n"
          ],
          "name": "stdout"
        }
      ]
    },
    {
      "cell_type": "code",
      "metadata": {
        "colab": {
          "base_uri": "https://localhost:8080/"
        },
        "id": "IDUd3WnZPKGz",
        "outputId": "d5921774-c3f6-48fb-a595-97fe5f8b8c16"
      },
      "source": [
        "# Stride (passolargo  ou Aragorn). O padrão (default) é 1\n",
        "# Caracteres um por um\n",
        "print(string_inPython[::1])\n",
        "# a cada 2\n",
        "print(string_inPython[::2])\n",
        "# a cada 3\n",
        "print(string_inPython[::3])"
      ],
      "execution_count": null,
      "outputs": [
        {
          "output_type": "stream",
          "text": [
            "Python String\n",
            "Pto tig\n",
            "Ph rg\n"
          ],
          "name": "stdout"
        }
      ]
    },
    {
      "cell_type": "code",
      "metadata": {
        "id": "7AMUcsk8PNlT",
        "colab": {
          "base_uri": "https://localhost:8080/"
        },
        "outputId": "c633b867-19bb-43a6-ddcc-5cea566ad027"
      },
      "source": [
        "# obs na função print()\n",
        "a = 2.0\n",
        "print(\"posso imprimir varias coisas\",a)\n",
        "print(\"posso imprimir varias coisas\",a,\": percebeu?\")"
      ],
      "execution_count": null,
      "outputs": [
        {
          "output_type": "stream",
          "text": [
            "posso imprimir varias coisas 2.0\n",
            "posso imprimir varias coisas 2.0 : percebeu?\n"
          ],
          "name": "stdout"
        }
      ]
    },
    {
      "cell_type": "code",
      "metadata": {
        "id": "zP3zuOBdwEc_"
      },
      "source": [
        ""
      ],
      "execution_count": null,
      "outputs": []
    }
  ]
}