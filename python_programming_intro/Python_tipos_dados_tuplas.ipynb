{
  "nbformat": 4,
  "nbformat_minor": 0,
  "metadata": {
    "colab": {
      "name": "Python_tipos_dados-tuplas.ipynb",
      "provenance": []
    },
    "kernelspec": {
      "name": "python3",
      "display_name": "Python 3"
    },
    "language_info": {
      "name": "python"
    }
  },
  "cells": [
    {
      "cell_type": "markdown",
      "metadata": {
        "id": "xqmSEvcRGihL"
      },
      "source": [
        "# **Tipos de dados em Python**\n",
        "# Tuplas\n",
        "\n",
        "1. **Booleans:** True ou False\n",
        "2. **Números:** int, float, complex\n",
        "3. **Strings:** caracteres\n",
        "4. **Listas:** Sequências ordenadas de valores\n",
        "5. **Tuplas:** Sequências ordenadas imutáveis de valores.\n",
        "6. **Conjuntos:** Conjunto como na matemáática $\\to$ Conjunto desordenado de valores (União/intersecção)\n",
        "7. **Dicionários:** Pares desordenados de chave-valor"
      ]
    },
    {
      "cell_type": "code",
      "metadata": {
        "colab": {
          "base_uri": "https://localhost:8080/"
        },
        "id": "17g-jXIL-x9a",
        "outputId": "f5a55cda-e2e8-417b-e09b-78d3e1d7af00"
      },
      "source": [
        "# tuplas no python, definidas pelo ()\n",
        "# heterogenea como a lista\n",
        "thistuple = (\"coke\", 3.5, 2, [0,1], 100,3+1j, True, (2,1))\n",
        "print(thistuple)"
      ],
      "execution_count": null,
      "outputs": [
        {
          "output_type": "stream",
          "text": [
            "('coke', 3.5, 2, [0, 1], 100, (3+1j), True, (2, 1))\n"
          ],
          "name": "stdout"
        }
      ]
    },
    {
      "cell_type": "code",
      "metadata": {
        "id": "MllBdUa2G5sa"
      },
      "source": [
        "# soma de tuplas\n",
        "# note o metodo diferente de declaração\n",
        "tuple_1 = 1,2,3\n",
        "tuple_2 = 3.9,4.5,\"coke\""
      ],
      "execution_count": null,
      "outputs": []
    },
    {
      "cell_type": "code",
      "metadata": {
        "colab": {
          "base_uri": "https://localhost:8080/"
        },
        "id": "Vrs6NIb3HEDV",
        "outputId": "cc9e9b41-9fac-420b-ae6b-67c2cff61f1a"
      },
      "source": [
        "# indexing, slicing e stride. Mesmo ordenamento que a lista\n",
        "print(thistuple[0],thistuple[1],thistuple[2])\n",
        "print(thistuple[-1],thistuple[-2],thistuple[-3])\n",
        "print(thistuple[0:3])\n",
        "print(thistuple[::2])"
      ],
      "execution_count": null,
      "outputs": [
        {
          "output_type": "stream",
          "text": [
            "coke 3.5 2\n",
            "(2, 1) True (3+1j)\n",
            "('coke', 3.5, 2)\n",
            "('coke', 2, 100, True)\n"
          ],
          "name": "stdout"
        }
      ]
    },
    {
      "cell_type": "markdown",
      "metadata": {
        "id": "Kh5V7F86HTxb"
      },
      "source": [
        "Tupla é uma sequência ordenada **imutável**!"
      ]
    },
    {
      "cell_type": "code",
      "metadata": {
        "colab": {
          "base_uri": "https://localhost:8080/",
          "height": 185
        },
        "id": "gPiaQqLSHK0L",
        "outputId": "b00ef253-882c-44aa-8c83-c5a1e529f345"
      },
      "source": [
        "# retorna um erro\n",
        "thistuple[2] = 2.5"
      ],
      "execution_count": null,
      "outputs": [
        {
          "output_type": "error",
          "ename": "TypeError",
          "evalue": "ignored",
          "traceback": [
            "\u001b[0;31m---------------------------------------------------------------------------\u001b[0m",
            "\u001b[0;31mTypeError\u001b[0m                                 Traceback (most recent call last)",
            "\u001b[0;32m<ipython-input-5-697594c734d6>\u001b[0m in \u001b[0;36m<module>\u001b[0;34m()\u001b[0m\n\u001b[1;32m      1\u001b[0m \u001b[0;31m# retorna um erro\u001b[0m\u001b[0;34m\u001b[0m\u001b[0;34m\u001b[0m\u001b[0;34m\u001b[0m\u001b[0m\n\u001b[0;32m----> 2\u001b[0;31m \u001b[0mthistuple\u001b[0m\u001b[0;34m[\u001b[0m\u001b[0;36m2\u001b[0m\u001b[0;34m]\u001b[0m \u001b[0;34m=\u001b[0m \u001b[0;36m2.5\u001b[0m\u001b[0;34m\u001b[0m\u001b[0;34m\u001b[0m\u001b[0m\n\u001b[0m",
            "\u001b[0;31mTypeError\u001b[0m: 'tuple' object does not support item assignment"
          ]
        }
      ]
    },
    {
      "cell_type": "markdown",
      "metadata": {
        "id": "soPK-ygLHm4l"
      },
      "source": [
        "Construtores de lista e tupla"
      ]
    },
    {
      "cell_type": "code",
      "metadata": {
        "colab": {
          "base_uri": "https://localhost:8080/"
        },
        "id": "YoWCG_a7HgT6",
        "outputId": "0ba3496d-e39c-4ffd-b50b-33c251deaea1"
      },
      "source": [
        "# alterar elementos de uma tupla\n",
        "\n",
        "# transformar uma tupla numa lista\n",
        "temp = list(thistuple)\n",
        "temp[2] = 2.5\n",
        "\n",
        "# retorna para a tupla\n",
        "thistuple = tuple(temp)\n",
        "thistuple"
      ],
      "execution_count": null,
      "outputs": [
        {
          "output_type": "execute_result",
          "data": {
            "text/plain": [
              "('coke', 3.5, 2.5, [0, 1], 100, (3+1j), True, (2, 1))"
            ]
          },
          "metadata": {
            "tags": []
          },
          "execution_count": 6
        }
      ]
    },
    {
      "cell_type": "code",
      "metadata": {
        "colab": {
          "base_uri": "https://localhost:8080/"
        },
        "id": "bOPCAYdgH7MV",
        "outputId": "73c60948-0f7c-44a3-ab7a-56d3f9a64f91"
      },
      "source": [
        "# retorna um boolean\n",
        "\"coke\" in thistuple"
      ],
      "execution_count": null,
      "outputs": [
        {
          "output_type": "execute_result",
          "data": {
            "text/plain": [
              "True"
            ]
          },
          "metadata": {
            "tags": []
          },
          "execution_count": 7
        }
      ]
    },
    {
      "cell_type": "code",
      "metadata": {
        "colab": {
          "base_uri": "https://localhost:8080/"
        },
        "id": "wKuI2H8kIDmr",
        "outputId": "88f9636c-e6ac-41cf-9569-b229b1277163"
      },
      "source": [
        "# Tamanho de uma tupla\n",
        "len(thistuple)"
      ],
      "execution_count": null,
      "outputs": [
        {
          "output_type": "execute_result",
          "data": {
            "text/plain": [
              "8"
            ]
          },
          "metadata": {
            "tags": []
          },
          "execution_count": 8
        }
      ]
    },
    {
      "cell_type": "markdown",
      "metadata": {
        "id": "3hRVX_GxIWk5"
      },
      "source": [
        "Tupla de 1 elemento"
      ]
    },
    {
      "cell_type": "code",
      "metadata": {
        "colab": {
          "base_uri": "https://localhost:8080/"
        },
        "id": "9k1RuRToIRsm",
        "outputId": "b3452865-1210-4942-a392-3d81438e9244"
      },
      "source": [
        "# Tupla de um elemento, definição correta\n",
        "thistuple = (\"apple\",)\n",
        "print(type(thistuple))\n",
        "\n",
        "# Não é uma tupla\n",
        "thistuple = (\"apple\")\n",
        "print(type(thistuple)) "
      ],
      "execution_count": null,
      "outputs": [
        {
          "output_type": "stream",
          "text": [
            "<class 'tuple'>\n",
            "<class 'str'>\n"
          ],
          "name": "stdout"
        }
      ]
    },
    {
      "cell_type": "code",
      "metadata": {
        "colab": {
          "base_uri": "https://localhost:8080/"
        },
        "id": "dPSMJOeoIpE-",
        "outputId": "7ed2f0cc-d01f-46c1-ece9-aead05d8427c"
      },
      "source": [
        "num_tuple = 1,3.2,10,5.5\n",
        "print(num_tuple)\n",
        "\n",
        "# Essas funções também podem ser utilizadas em listas\n",
        "print(max(num_tuple))\n",
        "print(min(num_tuple))\n",
        "\n",
        "# deleta da memória\n",
        "del num_tuple"
      ],
      "execution_count": null,
      "outputs": [
        {
          "output_type": "stream",
          "text": [
            "(1, 3.2, 10, 5.5)\n",
            "10\n",
            "1\n"
          ],
          "name": "stdout"
        }
      ]
    },
    {
      "cell_type": "code",
      "metadata": {
        "colab": {
          "base_uri": "https://localhost:8080/",
          "height": 185
        },
        "id": "tw9lxbqzIuDW",
        "outputId": "8e6859fc-9043-4ec6-9c6a-0692136037ff"
      },
      "source": [
        "# Erro! jáá foi deletada da memória\n",
        "num_tuple"
      ],
      "execution_count": null,
      "outputs": [
        {
          "output_type": "error",
          "ename": "NameError",
          "evalue": "ignored",
          "traceback": [
            "\u001b[0;31m---------------------------------------------------------------------------\u001b[0m",
            "\u001b[0;31mNameError\u001b[0m                                 Traceback (most recent call last)",
            "\u001b[0;32m<ipython-input-12-8bfe6af6b176>\u001b[0m in \u001b[0;36m<module>\u001b[0;34m()\u001b[0m\n\u001b[1;32m      1\u001b[0m \u001b[0;31m# Erro! jáá foi deletada da memória\u001b[0m\u001b[0;34m\u001b[0m\u001b[0;34m\u001b[0m\u001b[0;34m\u001b[0m\u001b[0m\n\u001b[0;32m----> 2\u001b[0;31m \u001b[0mnum_tuple\u001b[0m\u001b[0;34m\u001b[0m\u001b[0;34m\u001b[0m\u001b[0m\n\u001b[0m",
            "\u001b[0;31mNameError\u001b[0m: name 'num_tuple' is not defined"
          ]
        }
      ]
    },
    {
      "cell_type": "markdown",
      "metadata": {
        "id": "-in9iR0-I_-O"
      },
      "source": [
        "Exercício: crie sua tupla\n",
        "1. Acesse cada elemento\n",
        "2. Teste indexing, slicing e striding com a tupla\n",
        "3. Use os métodos mostradas acima"
      ]
    },
    {
      "cell_type": "code",
      "metadata": {
        "id": "RcWEGN4-I8fQ"
      },
      "source": [
        ""
      ],
      "execution_count": null,
      "outputs": []
    }
  ]
}