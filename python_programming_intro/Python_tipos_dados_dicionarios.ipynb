{
  "nbformat": 4,
  "nbformat_minor": 0,
  "metadata": {
    "colab": {
      "name": "Python_tipos_dados-dicionarios.ipynb",
      "provenance": []
    },
    "kernelspec": {
      "name": "python3",
      "display_name": "Python 3"
    },
    "language_info": {
      "name": "python"
    }
  },
  "cells": [
    {
      "cell_type": "markdown",
      "metadata": {
        "id": "zYRPghemkvhX"
      },
      "source": [
        "# **Tipos de dados em Python**\n",
        "# Dicionários\n",
        "\n",
        "1. **Booleans:** True ou False\n",
        "2. **Números:** int, float, complex\n",
        "3. **Strings:** caracteres\n",
        "4. **Listas:** Sequências ordenadas de valores\n",
        "5. **Tuplas:** Sequências ordenadas imutáveis de valores.\n",
        "6. **Conjuntos:** Conjunto como na matemáática $\\to$ Conjunto desordenado de valores (União/intersecção)\n",
        "7. **Dicionários:** Pares desordenados de chave-valor"
      ]
    },
    {
      "cell_type": "code",
      "metadata": {
        "colab": {
          "base_uri": "https://localhost:8080/"
        },
        "id": "khtlgwZKJZKu",
        "outputId": "42a53269-1e61-447a-eda9-77705b4b15ea"
      },
      "source": [
        "# declarar um dicionario {\"valor\":chave}\n",
        "# chave:valor\n",
        "# chave é um nome para identificar um valor associado (unico)\n",
        "# valor qualquer tipo de dado\n",
        "thisdict = {\"marca\": \"Wolkswagen\",\"modelo\": \"Fusca\",\"ano\": 1964}\n",
        "print(thisdict)"
      ],
      "execution_count": null,
      "outputs": [
        {
          "output_type": "stream",
          "text": [
            "{'marca': 'Wolkswagen', 'modelo': 'Fusca', 'ano': 1964}\n"
          ],
          "name": "stdout"
        }
      ]
    },
    {
      "cell_type": "code",
      "metadata": {
        "colab": {
          "base_uri": "https://localhost:8080/"
        },
        "id": "0tUaiBb6lG7O",
        "outputId": "d2ae9a24-db9a-450f-e542-bf3cc75d7540"
      },
      "source": [
        "# um outro dicionario. Valores de diferentes tipos\n",
        "newdict = {\"int\": 10,\"float\": 10.6,\"string\": 'characters', \"Boolean\":True, \"List\":[0,1,2]}\n",
        "print(newdict)"
      ],
      "execution_count": null,
      "outputs": [
        {
          "output_type": "stream",
          "text": [
            "{'int': 10, 'float': 10.6, 'string': 'characters', 'Boolean': True, 'List': [0, 1, 2]}\n"
          ],
          "name": "stdout"
        }
      ]
    },
    {
      "cell_type": "code",
      "metadata": {
        "colab": {
          "base_uri": "https://localhost:8080/"
        },
        "id": "oUOCemWklVDI",
        "outputId": "74fae1f5-ffa6-49f5-fa92-91414600f2f5"
      },
      "source": [
        "# acesso via chave\n",
        "print(thisdict[\"marca\"])\n",
        "\n",
        "# mesmo resultado usando o método get\n",
        "print(thisdict.get(\"marca\"))"
      ],
      "execution_count": null,
      "outputs": [
        {
          "output_type": "stream",
          "text": [
            "Wolkswagen\n",
            "Wolkswagen\n"
          ],
          "name": "stdout"
        }
      ]
    },
    {
      "cell_type": "code",
      "metadata": {
        "colab": {
          "base_uri": "https://localhost:8080/"
        },
        "id": "X11GRKkGlhSP",
        "outputId": "c5b098df-7d6d-48cc-e7b1-aeecc72f03b7"
      },
      "source": [
        "# no futuro isso será usado em estruturas de repeticao\n",
        "# loops\n",
        "\n",
        "# chaves\n",
        "print(thisdict.keys())\n",
        "# transformar numa lista\n",
        "lkeys = list(thisdict.keys())\n",
        "print(lkeys,\" - um elemento da lista:\",lkeys[0])\n",
        "\n",
        "# valores\n",
        "print(thisdict.values())\n",
        "\n",
        "# transformar numa lista\n",
        "lvalues = [*thisdict.values()]\n",
        "print(lvalues,\" - Um elemento da lista:\",lvalues[0])\n",
        "\n",
        "# chaves e valores\n",
        "print(thisdict.items())\n",
        "litems = list(thisdict.items())\n",
        "print(litems,\" - A chave:\",litems[0][0], \"- o valor:\", litems[0][1])\n",
        "\n",
        "\n",
        "# checar se um valor esta no dicionario\n",
        "# retorna um boolean\n",
        "print('Wolkswagen' in thisdict.values())\n",
        "print('corola' in thisdict.values())\n",
        "print('corola' in thisdict.keys())"
      ],
      "execution_count": null,
      "outputs": [
        {
          "output_type": "stream",
          "text": [
            "dict_keys(['marca', 'modelo', 'ano'])\n",
            "['marca', 'modelo', 'ano']  - um elemento da lista: marca\n",
            "dict_values(['Wolkswagen', 'Fusca', 1964])\n",
            "['Wolkswagen', 'Fusca', 1964]  - Um elemento da lista: Wolkswagen\n",
            "dict_items([('marca', 'Wolkswagen'), ('modelo', 'Fusca'), ('ano', 1964)])\n",
            "[('marca', 'Wolkswagen'), ('modelo', 'Fusca'), ('ano', 1964)]  - A chave: marca - o valor: Wolkswagen\n",
            "True\n",
            "False\n",
            "False\n"
          ],
          "name": "stdout"
        }
      ]
    },
    {
      "cell_type": "markdown",
      "metadata": {
        "id": "HCOaM7dwng0_"
      },
      "source": [
        "**Algoritmo e aplicação**\n",
        "\n",
        "Vamos inverter a lógica do dicionário: Dado que você sabe um valor e você quer descobrir a palavra chave relacionada a esse valor. (dica: utilize o que você aprendeu com localização de elementos em listas). Diga o problema que pode ocorrer nessa análise."
      ]
    },
    {
      "cell_type": "code",
      "metadata": {
        "id": "QhUYcJunmJPd"
      },
      "source": [
        "# procure a chave relacionada ao numero 10\n",
        "mydict = {\"futebol\":10,\"coca-cola\":9,\"churrasco\":8,\"volei\":7,\"praia\":6}\n",
        "\n",
        "# escreva abaixo seu código.\n",
        "# resposta na próxima linha\n",
        "\n"
      ],
      "execution_count": null,
      "outputs": []
    },
    {
      "cell_type": "code",
      "metadata": {
        "colab": {
          "base_uri": "https://localhost:8080/",
          "height": 35
        },
        "id": "hZFo36MbmiDC",
        "outputId": "795ca94b-b61f-4791-ceaa-beeb590d4dca"
      },
      "source": [
        "#@title Clique aqui para resposta { display-mode: \"form\" }\n",
        "\n",
        "mydict = {\"futebol\":10,\"coca-cola\":9,\"churrasco\":8,\"volei\":7,\"praia\":6}\n",
        "\n",
        "# chaves numa lista\n",
        "keys = list(mydict.keys())\n",
        "\n",
        "# valores numa lista\n",
        "values = [*mydict.values()]\n",
        "\n",
        "# a resposta\n",
        "keys[values.index(10)]\n"
      ],
      "execution_count": null,
      "outputs": [
        {
          "output_type": "execute_result",
          "data": {
            "application/vnd.google.colaboratory.intrinsic+json": {
              "type": "string"
            },
            "text/plain": [
              "'futebol'"
            ]
          },
          "metadata": {
            "tags": []
          },
          "execution_count": 31
        }
      ]
    },
    {
      "cell_type": "code",
      "metadata": {
        "colab": {
          "base_uri": "https://localhost:8080/"
        },
        "id": "FnZYfCharL_w",
        "outputId": "7784a01a-67e7-4b74-fc37-bfeee50b63dd"
      },
      "source": [
        "# adicionar um item\n",
        "thisdict[\"cor\"] = \"branco\"\n",
        "thisdict"
      ],
      "execution_count": null,
      "outputs": [
        {
          "output_type": "execute_result",
          "data": {
            "text/plain": [
              "{'ano': 1964, 'cor': 'branco', 'marca': 'Wolkswagen', 'modelo': 'Fusca'}"
            ]
          },
          "metadata": {
            "tags": []
          },
          "execution_count": 32
        }
      ]
    },
    {
      "cell_type": "code",
      "metadata": {
        "colab": {
          "base_uri": "https://localhost:8080/"
        },
        "id": "pJMzgUgb5V_J",
        "outputId": "b8c71c86-d03d-4a0a-87de-50bcee395a1b"
      },
      "source": [
        "print(thisdict)\n",
        "# remover itens com pop()\n",
        "thisdict.pop(\"cor\")\n",
        "print(thisdict)"
      ],
      "execution_count": null,
      "outputs": [
        {
          "output_type": "stream",
          "text": [
            "{'marca': 'Wolkswagen', 'modelo': 'Fusca', 'ano': 1964, 'cor': 'branco'}\n",
            "{'marca': 'Wolkswagen', 'modelo': 'Fusca', 'ano': 1964}\n"
          ],
          "name": "stdout"
        }
      ]
    },
    {
      "cell_type": "code",
      "metadata": {
        "colab": {
          "base_uri": "https://localhost:8080/"
        },
        "id": "Fml3XCA25bHb",
        "outputId": "ac9bec13-75fc-4edd-a19c-27ff889ba10d"
      },
      "source": [
        "# ou del\n",
        "del thisdict['marca']\n",
        "print(thisdict)"
      ],
      "execution_count": null,
      "outputs": [
        {
          "output_type": "stream",
          "text": [
            "{'modelo': 'Fusca', 'ano': 1964}\n"
          ],
          "name": "stdout"
        }
      ]
    },
    {
      "cell_type": "code",
      "metadata": {
        "id": "TsaI3dW95gLd"
      },
      "source": [
        "# deletar o dicionario completamente\n",
        "del thisdict"
      ],
      "execution_count": null,
      "outputs": []
    },
    {
      "cell_type": "code",
      "metadata": {
        "colab": {
          "base_uri": "https://localhost:8080/"
        },
        "id": "v97woD1H5l_q",
        "outputId": "5974d7ba-db38-4f57-ca3f-8933f68d3cef"
      },
      "source": [
        "thisdict = {\"marca\": \"Wolkswagen\",\"modelo\": \"Fusca\",\"ano\": 1964}\n",
        "print(thisdict)\n",
        "\n",
        "# como copiar um dicionario\n",
        "\n",
        "# utilizando \"=\" (operador de designio)\n",
        "# copy1 fica refeenciado a thisdict\n",
        "# modificacoes vao propagar para copy1\n",
        "copy1 = thisdict\n",
        "print(copy1,thisdict)\n",
        "thisdict[\"cor\"] = \"branco\"\n",
        "print(copy1,thisdict)"
      ],
      "execution_count": null,
      "outputs": [
        {
          "output_type": "stream",
          "text": [
            "{'marca': 'Wolkswagen', 'modelo': 'Fusca', 'ano': 1964}\n",
            "{'marca': 'Wolkswagen', 'modelo': 'Fusca', 'ano': 1964} {'marca': 'Wolkswagen', 'modelo': 'Fusca', 'ano': 1964}\n",
            "{'marca': 'Wolkswagen', 'modelo': 'Fusca', 'ano': 1964, 'cor': 'branco'} {'marca': 'Wolkswagen', 'modelo': 'Fusca', 'ano': 1964, 'cor': 'branco'}\n"
          ],
          "name": "stdout"
        }
      ]
    },
    {
      "cell_type": "code",
      "metadata": {
        "id": "gYbLlkBZ57zv"
      },
      "source": [
        "# para copiar de forma independente\n",
        "copy2 = thisdict.copy()\n",
        "copy3 = dict(thisdict)"
      ],
      "execution_count": null,
      "outputs": []
    },
    {
      "cell_type": "code",
      "metadata": {
        "id": "pJAjArf46EiC"
      },
      "source": [
        "# inception de novo\n",
        "# json file, um formato comum\n",
        "myfamily = {\n",
        "  \"aluno1\" : {\n",
        "    \"nome\" : \"Linus Torvalds\",\n",
        "    \"ano\" : 1969\n",
        "  },\n",
        "  \"aluno2\" : {\n",
        "    \"nome\" : \"Guido Von Rossum\",\n",
        "    \"ano\" : 1956\n",
        "  },\n",
        "  \"aluno3\" : {\n",
        "    \"nome\" : \"Donald Knuth\",\n",
        "    \"ano\" : 1938\n",
        "  }\n",
        "} "
      ],
      "execution_count": null,
      "outputs": []
    },
    {
      "cell_type": "code",
      "metadata": {
        "colab": {
          "base_uri": "https://localhost:8080/"
        },
        "id": "AqG7Of0K6L11",
        "outputId": "381e6c30-334e-4b68-b2d3-5569f566327a"
      },
      "source": [
        "# Criar um dicionario com 3 chaves, todas com o mesmo valor\n",
        "x = ('key1', 'key2', 'key3')\n",
        "y = 0\n",
        "\n",
        "thisdict = dict.fromkeys(x, y)\n",
        "thisdict"
      ],
      "execution_count": null,
      "outputs": [
        {
          "output_type": "execute_result",
          "data": {
            "text/plain": [
              "{'key1': 0, 'key2': 0, 'key3': 0}"
            ]
          },
          "metadata": {
            "tags": []
          },
          "execution_count": 39
        }
      ]
    },
    {
      "cell_type": "markdown",
      "metadata": {
        "id": "ftmoHLfD7ueM"
      },
      "source": [
        "Exercício: Crie seu dicionário e utilize os métodos apresentados\n"
      ]
    },
    {
      "cell_type": "code",
      "metadata": {
        "id": "0XTpizZt70Wy"
      },
      "source": [
        ""
      ],
      "execution_count": null,
      "outputs": []
    }
  ]
}