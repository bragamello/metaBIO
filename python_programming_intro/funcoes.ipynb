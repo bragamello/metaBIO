{
  "nbformat": 4,
  "nbformat_minor": 0,
  "metadata": {
    "colab": {
      "name": "funcoes.ipynb",
      "provenance": []
    },
    "kernelspec": {
      "name": "python3",
      "display_name": "Python 3"
    },
    "language_info": {
      "name": "python"
    }
  },
  "cells": [
    {
      "cell_type": "markdown",
      "metadata": {
        "id": "WWt7VEUgiqzJ"
      },
      "source": [
        "# Funções em Python\n",
        "\n",
        "1. A função é um bloco de código que roda somente quando chamado no programa\n",
        "\n",
        "2. Podemos passar dados para essa função (Argumentos) e a função irá operar com esses dados\n",
        "\n",
        "3. Finalmente, a função retornará um ou múltiplos resultados para o programa (que podem ser guardados em variáveis)\n",
        "\n",
        "Já utilizamos algumas funções (len(), por exemplo). As funções servem para organizar e estruturar o código e o algoritmo. Um bloco de código que será utilizado repetidas vezes é por exemplo um excelente candidato a uma função"
      ]
    },
    {
      "cell_type": "markdown",
      "metadata": {
        "id": "f7TBcWhXonbh"
      },
      "source": [
        "**Sintaxe básica**\n",
        "\n",
        "Note a identação!\n",
        "\n",
        "```\n",
        "def nomefuncao(arg1, arg2, arg3, ...):\n",
        "  bloco de código\n",
        "  return saida\n",
        "```\n",
        "\n"
      ]
    },
    {
      "cell_type": "code",
      "metadata": {
        "id": "HUR5wuPZim2z"
      },
      "source": [
        "# criando uma função\n",
        "# sem argumentos\n",
        "# note que nada irá acontecer\n",
        "def my_first_func():\n",
        "  print(\"Hello world inside the function\")"
      ],
      "execution_count": null,
      "outputs": []
    },
    {
      "cell_type": "code",
      "metadata": {
        "colab": {
          "base_uri": "https://localhost:8080/"
        },
        "id": "6Vor71RekS4w",
        "outputId": "fda6fd3d-9c7c-4d80-d06c-bf44f4596315"
      },
      "source": [
        "# agora algo irá acontecer\n",
        "# a função é chamada no programa\n",
        "my_first_func()"
      ],
      "execution_count": null,
      "outputs": [
        {
          "output_type": "stream",
          "text": [
            "Hello world inside the function\n"
          ],
          "name": "stdout"
        }
      ]
    },
    {
      "cell_type": "markdown",
      "metadata": {
        "id": "PWRZBEsbos9f"
      },
      "source": [
        "**Funções com argumentos**"
      ]
    },
    {
      "cell_type": "code",
      "metadata": {
        "colab": {
          "base_uri": "https://localhost:8080/"
        },
        "id": "QpZcogjNkbdj",
        "outputId": "c5594c55-f2e3-4cc5-c3fe-1dc736367443"
      },
      "source": [
        "# Uma função com 1 argumento\n",
        "def write_student_name(name):\n",
        "  print(\"Student: \"+name)\n",
        "\n",
        "# chamando a função\n",
        "write_student_name(\"victor\")"
      ],
      "execution_count": null,
      "outputs": [
        {
          "output_type": "stream",
          "text": [
            "Student: victor\n"
          ],
          "name": "stdout"
        }
      ]
    },
    {
      "cell_type": "code",
      "metadata": {
        "colab": {
          "base_uri": "https://localhost:8080/"
        },
        "id": "ktZbkXo5nd5I",
        "outputId": "18df5711-8c75-426d-c9e0-b35b95dc4fa8"
      },
      "source": [
        "# quantos argumentos forem necessário para seu código\n",
        "def write_student_name(name,surname):\n",
        "  print(\"Student:\" + ' ' + name + ' ' + surname)\n",
        "\n",
        "# chamando a função\n",
        "write_student_name(\"victor\", \"mello\")"
      ],
      "execution_count": null,
      "outputs": [
        {
          "output_type": "stream",
          "text": [
            "Student: victor mello\n"
          ],
          "name": "stdout"
        }
      ]
    },
    {
      "cell_type": "code",
      "metadata": {
        "colab": {
          "base_uri": "https://localhost:8080/"
        },
        "id": "6dxN9glCnop_",
        "outputId": "0208f9ef-a400-4da3-d018-c8aeb87fc9c9"
      },
      "source": [
        "# número arbitrario de argumentos\n",
        "# a função vai receber uma tupla\n",
        "def write_names(*arg):\n",
        "  # é uma tupla\n",
        "  print(arg, type(arg))\n",
        "  for idx,name in enumerate(arg):\n",
        "    print(\"name \"+ str(idx) + ':'+ name)\n",
        "\n",
        "write_names(\"victor\", \"rossum\", \"ritchie\", \"torvalds\", \"dijkstra\")\n"
      ],
      "execution_count": null,
      "outputs": [
        {
          "output_type": "stream",
          "text": [
            "('victor', 'rossum', 'ritchie', 'torvalds', 'dijkstra') <class 'tuple'>\n",
            "name 0:victor\n",
            "name 1:rossum\n",
            "name 2:ritchie\n",
            "name 3:torvalds\n",
            "name 4:dijkstra\n"
          ],
          "name": "stdout"
        }
      ]
    },
    {
      "cell_type": "code",
      "metadata": {
        "colab": {
          "base_uri": "https://localhost:8080/"
        },
        "id": "SuYEAH6xoIjI",
        "outputId": "120320b8-3957-474f-fe77-9c200ba7db65"
      },
      "source": [
        "# keywords\n",
        "def write_student_name(student1, student2, student3):\n",
        "  print(\"student1 \" + student1)\n",
        "  print(\"student2 \" + student2)\n",
        "  print(\"student3 \" + student3)\n",
        "\n",
        "write_student_name(student3 = \"victor\", student1 = \"rossum\", student2 = \"knuth\" )"
      ],
      "execution_count": null,
      "outputs": [
        {
          "output_type": "stream",
          "text": [
            "student1 rossum\n",
            "student2 knuth\n",
            "student3 victor\n"
          ],
          "name": "stdout"
        }
      ]
    },
    {
      "cell_type": "code",
      "metadata": {
        "colab": {
          "base_uri": "https://localhost:8080/"
        },
        "id": "NUVJNWnNoYe3",
        "outputId": "d4541d8e-e5ef-481c-84e8-2218a0e8c916"
      },
      "source": [
        "# numero arbitrario de keys\n",
        "# a função vai receber um dicionario\n",
        "def write_names(**arg):\n",
        "  # um dicionario\n",
        "  print(arg, type(arg))\n",
        "  for keyword,values in arg.items():\n",
        "    print(keyword, values)\n",
        "\n",
        "write_names(name = \"victor\", age = 29, profession = \"physicist\")\n",
        "  "
      ],
      "execution_count": null,
      "outputs": [
        {
          "output_type": "stream",
          "text": [
            "{'name': 'victor', 'age': 29, 'profession': 'physicist'} <class 'dict'>\n",
            "name victor\n",
            "age 29\n",
            "profession physicist\n"
          ],
          "name": "stdout"
        }
      ]
    },
    {
      "cell_type": "markdown",
      "metadata": {
        "id": "Bx-e9-oDp7Hb"
      },
      "source": [
        "**Retornar um ou mais valores**"
      ]
    },
    {
      "cell_type": "code",
      "metadata": {
        "colab": {
          "base_uri": "https://localhost:8080/",
          "height": 35
        },
        "id": "C4m6q9sxokul",
        "outputId": "31ba96e1-229f-4ef9-82a2-9e0711bd5240"
      },
      "source": [
        "def write_student_name(name,surname):\n",
        "  fullname = name+' '+surname\n",
        "  return fullname\n",
        "\n",
        "# chamando a função\n",
        "result = write_student_name(\"victor\", \"mello\")\n",
        "result"
      ],
      "execution_count": null,
      "outputs": [
        {
          "output_type": "execute_result",
          "data": {
            "application/vnd.google.colaboratory.intrinsic+json": {
              "type": "string"
            },
            "text/plain": [
              "'victor mello'"
            ]
          },
          "metadata": {
            "tags": []
          },
          "execution_count": 13
        }
      ]
    },
    {
      "cell_type": "code",
      "metadata": {
        "colab": {
          "base_uri": "https://localhost:8080/",
          "height": 35
        },
        "id": "sRBXP2h9qTXd",
        "outputId": "9c54a3a9-589a-42ba-d043-118b56afc076"
      },
      "source": [
        "def write_student_name(name,surname):\n",
        "  fullname = name+' '+surname\n",
        "  # retorna uma tupla\n",
        "  return name, surname, fullname\n",
        "\n",
        "# chamando a função\n",
        "result = write_student_name(\"victor\", \"mello\")\n",
        "result\n",
        "\n",
        "# Tente essa saida!\n",
        "# resultado já indexado a cada variavel\n",
        "# r1, r2, r3 = write_student_name(\"victor\", \"mello\")"
      ],
      "execution_count": null,
      "outputs": [
        {
          "output_type": "execute_result",
          "data": {
            "application/vnd.google.colaboratory.intrinsic+json": {
              "type": "string"
            },
            "text/plain": [
              "'victor mello'"
            ]
          },
          "metadata": {
            "tags": []
          },
          "execution_count": 19
        }
      ]
    },
    {
      "cell_type": "markdown",
      "metadata": {
        "id": "qMgNj8sarAf4"
      },
      "source": [
        "**Variáveis locais e globais**\n",
        "\n",
        "Global $\\to$ acessada por qualquer parte do código\n",
        "\n",
        "Local $\\to$ acessada somente numa parte específica do código (no caso, dentro da função)\n"
      ]
    },
    {
      "cell_type": "code",
      "metadata": {
        "colab": {
          "base_uri": "https://localhost:8080/"
        },
        "id": "GPEakozMqnCs",
        "outputId": "98b95f6a-1dfc-4c80-9525-51f10de601b6"
      },
      "source": [
        "# variavel global\n",
        "x = \"sou global\"\n",
        "\n",
        "def func():\n",
        "  print(\"x dentro da funcao:\", x)\n",
        "\n",
        "func()\n",
        "print(\"x fora:\", x)"
      ],
      "execution_count": null,
      "outputs": [
        {
          "output_type": "stream",
          "text": [
            "x dentro da funcao: sou global\n",
            "x fora: sou global\n"
          ],
          "name": "stdout"
        }
      ]
    },
    {
      "cell_type": "code",
      "metadata": {
        "colab": {
          "base_uri": "https://localhost:8080/",
          "height": 323
        },
        "id": "g84c5zTJreDa",
        "outputId": "0f77e37c-302a-4754-b1b8-0416327dd94b"
      },
      "source": [
        "# Erro! Aqui a variavel é global\n",
        "x = \"global\"\n",
        "\n",
        "def func():\n",
        "  # Aqui ela é tratada como local\n",
        "  # nao existe valor de x para fazer essa operaçao\n",
        "  x = x * 2\n",
        "  print(x)\n",
        "\n",
        "func()"
      ],
      "execution_count": null,
      "outputs": [
        {
          "output_type": "error",
          "ename": "UnboundLocalError",
          "evalue": "ignored",
          "traceback": [
            "\u001b[0;31m---------------------------------------------------------------------------\u001b[0m",
            "\u001b[0;31mUnboundLocalError\u001b[0m                         Traceback (most recent call last)",
            "\u001b[0;32m<ipython-input-28-d7b695986eb2>\u001b[0m in \u001b[0;36m<module>\u001b[0;34m()\u001b[0m\n\u001b[1;32m      8\u001b[0m   \u001b[0mprint\u001b[0m\u001b[0;34m(\u001b[0m\u001b[0mx\u001b[0m\u001b[0;34m)\u001b[0m\u001b[0;34m\u001b[0m\u001b[0;34m\u001b[0m\u001b[0m\n\u001b[1;32m      9\u001b[0m \u001b[0;34m\u001b[0m\u001b[0m\n\u001b[0;32m---> 10\u001b[0;31m \u001b[0mfunc\u001b[0m\u001b[0;34m(\u001b[0m\u001b[0;34m)\u001b[0m\u001b[0;34m\u001b[0m\u001b[0;34m\u001b[0m\u001b[0m\n\u001b[0m",
            "\u001b[0;32m<ipython-input-28-d7b695986eb2>\u001b[0m in \u001b[0;36mfunc\u001b[0;34m()\u001b[0m\n\u001b[1;32m      5\u001b[0m   \u001b[0;31m# Aqui ela é tratada como local\u001b[0m\u001b[0;34m\u001b[0m\u001b[0;34m\u001b[0m\u001b[0;34m\u001b[0m\u001b[0m\n\u001b[1;32m      6\u001b[0m   \u001b[0;31m# nao existe valor de x para fazer essa operaçao\u001b[0m\u001b[0;34m\u001b[0m\u001b[0;34m\u001b[0m\u001b[0;34m\u001b[0m\u001b[0m\n\u001b[0;32m----> 7\u001b[0;31m   \u001b[0mx\u001b[0m \u001b[0;34m=\u001b[0m \u001b[0mx\u001b[0m \u001b[0;34m*\u001b[0m \u001b[0;36m2\u001b[0m\u001b[0;34m\u001b[0m\u001b[0;34m\u001b[0m\u001b[0m\n\u001b[0m\u001b[1;32m      8\u001b[0m   \u001b[0mprint\u001b[0m\u001b[0;34m(\u001b[0m\u001b[0mx\u001b[0m\u001b[0;34m)\u001b[0m\u001b[0;34m\u001b[0m\u001b[0;34m\u001b[0m\u001b[0m\n\u001b[1;32m      9\u001b[0m \u001b[0;34m\u001b[0m\u001b[0m\n",
            "\u001b[0;31mUnboundLocalError\u001b[0m: local variable 'x' referenced before assignment"
          ]
        }
      ]
    },
    {
      "cell_type": "code",
      "metadata": {
        "colab": {
          "base_uri": "https://localhost:8080/"
        },
        "id": "QMyrwnBXtgyF",
        "outputId": "e90f054a-fb15-436b-d1d9-fa8f10cb1dbc"
      },
      "source": [
        "# corrigindo o erro\n",
        "x = \"global\"\n",
        "\n",
        "def func():\n",
        "  # podemos dizer que x é global\n",
        "  global x\n",
        "  x = x * 2\n",
        "  print(x)\n",
        "\n",
        "func()"
      ],
      "execution_count": null,
      "outputs": [
        {
          "output_type": "stream",
          "text": [
            "globalglobal\n"
          ],
          "name": "stdout"
        }
      ]
    },
    {
      "cell_type": "code",
      "metadata": {
        "colab": {
          "base_uri": "https://localhost:8080/",
          "height": 202
        },
        "id": "HPd7UcSotx7D",
        "outputId": "b4581fde-daf2-401b-b761-d4ad0113f104"
      },
      "source": [
        "def func():\n",
        "  y = \"Sou local\"\n",
        "  # Rode com o print(y) dentro da funcao\n",
        "\n",
        "func()\n",
        "\n",
        "# Erro! y é local\n",
        "# So faz sentido dentro da funçao\n",
        "print(y)"
      ],
      "execution_count": null,
      "outputs": [
        {
          "output_type": "error",
          "ename": "NameError",
          "evalue": "ignored",
          "traceback": [
            "\u001b[0;31m---------------------------------------------------------------------------\u001b[0m",
            "\u001b[0;31mNameError\u001b[0m                                 Traceback (most recent call last)",
            "\u001b[0;32m<ipython-input-44-2ddb13de1cd2>\u001b[0m in \u001b[0;36m<module>\u001b[0;34m()\u001b[0m\n\u001b[1;32m      7\u001b[0m \u001b[0;31m# Erro! y é local\u001b[0m\u001b[0;34m\u001b[0m\u001b[0;34m\u001b[0m\u001b[0;34m\u001b[0m\u001b[0m\n\u001b[1;32m      8\u001b[0m \u001b[0;31m# So faz sentido dentro da funçao\u001b[0m\u001b[0;34m\u001b[0m\u001b[0;34m\u001b[0m\u001b[0;34m\u001b[0m\u001b[0m\n\u001b[0;32m----> 9\u001b[0;31m \u001b[0mprint\u001b[0m\u001b[0;34m(\u001b[0m\u001b[0my\u001b[0m\u001b[0;34m)\u001b[0m\u001b[0;34m\u001b[0m\u001b[0;34m\u001b[0m\u001b[0m\n\u001b[0m",
            "\u001b[0;31mNameError\u001b[0m: name 'y' is not defined"
          ]
        }
      ]
    },
    {
      "cell_type": "code",
      "metadata": {
        "colab": {
          "base_uri": "https://localhost:8080/"
        },
        "id": "-z3jqrOouSq-",
        "outputId": "ce99965c-7fc2-4122-cb82-3b04116a4126"
      },
      "source": [
        "# variaveis locais e globais no mesmo codigo\n",
        "x = \"global \"\n",
        "\n",
        "def func():\n",
        "  global x\n",
        "  y = \"local\"\n",
        "  x = x * 2\n",
        "  print(x)\n",
        "  print(y)\n",
        "\n",
        "func()"
      ],
      "execution_count": null,
      "outputs": [
        {
          "output_type": "stream",
          "text": [
            "global global \n",
            "local\n"
          ],
          "name": "stdout"
        }
      ]
    },
    {
      "cell_type": "code",
      "metadata": {
        "colab": {
          "base_uri": "https://localhost:8080/"
        },
        "id": "3I0VHESsvIAW",
        "outputId": "a790f29f-f82b-442d-ae28-8c987b416280"
      },
      "source": [
        "# variaveis locais e globais com o mesmo nome\n",
        "\n",
        "# global\n",
        "x = 5\n",
        "def func():\n",
        "  # local\n",
        "  x = 10\n",
        "  print(\"local x:\", x)\n",
        "\n",
        "foo()\n",
        "print(\"global x:\", x)"
      ],
      "execution_count": null,
      "outputs": [
        {
          "output_type": "stream",
          "text": [
            "10\n",
            "global x: 10\n"
          ],
          "name": "stdout"
        }
      ]
    },
    {
      "cell_type": "code",
      "metadata": {
        "id": "4RrgQWIqvYOn"
      },
      "source": [
        ""
      ],
      "execution_count": null,
      "outputs": []
    }
  ]
}