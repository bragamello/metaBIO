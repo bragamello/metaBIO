{
  "nbformat": 4,
  "nbformat_minor": 0,
  "metadata": {
    "colab": {
      "name": "operadores_strings.ipynb",
      "provenance": [],
      "collapsed_sections": []
    },
    "kernelspec": {
      "display_name": "Python 3",
      "name": "python3"
    },
    "language_info": {
      "name": "python"
    }
  },
  "cells": [
    {
      "cell_type": "markdown",
      "metadata": {
        "id": "wkVRTGQzX9nf"
      },
      "source": [
        "# **Strings**\n",
        "Alguns operadores com as strings"
      ]
    },
    {
      "cell_type": "code",
      "metadata": {
        "colab": {
          "base_uri": "https://localhost:8080/"
        },
        "id": "-LbJDCNzX32E",
        "outputId": "08948688-c75d-4c35-d175-2c14b7c81947"
      },
      "source": [
        "string1 = 'hello '\n",
        "string2 = 'world!'\n",
        "\n",
        "# concatenar\n",
        "thesum = string1+string2\n",
        "print(thesum)"
      ],
      "execution_count": null,
      "outputs": [
        {
          "output_type": "stream",
          "text": [
            "hello world!\n"
          ],
          "name": "stdout"
        }
      ]
    },
    {
      "cell_type": "code",
      "metadata": {
        "colab": {
          "base_uri": "https://localhost:8080/",
          "height": 35
        },
        "id": "KM13yS2yYMmq",
        "outputId": "724cbad0-bede-4f7e-cad6-94885d48e923"
      },
      "source": [
        "# repetir\n",
        "string1*5"
      ],
      "execution_count": null,
      "outputs": [
        {
          "output_type": "execute_result",
          "data": {
            "application/vnd.google.colaboratory.intrinsic+json": {
              "type": "string"
            },
            "text/plain": [
              "'hello hello hello hello hello '"
            ]
          },
          "metadata": {
            "tags": []
          },
          "execution_count": 42
        }
      ]
    },
    {
      "cell_type": "code",
      "metadata": {
        "colab": {
          "base_uri": "https://localhost:8080/",
          "height": 202
        },
        "id": "Rgc1JI4oYQY6",
        "outputId": "1601f95b-6cbf-47d6-b53a-0859a9eb1bbf"
      },
      "source": [
        "# Somente inteiros são permitidos!\n",
        "# Hey! O nosso primeiro erro!\n",
        "string1*5.0"
      ],
      "execution_count": null,
      "outputs": [
        {
          "output_type": "error",
          "ename": "TypeError",
          "evalue": "ignored",
          "traceback": [
            "\u001b[0;31m---------------------------------------------------------------------------\u001b[0m",
            "\u001b[0;31mTypeError\u001b[0m                                 Traceback (most recent call last)",
            "\u001b[0;32m<ipython-input-43-01c37e91a8c7>\u001b[0m in \u001b[0;36m<module>\u001b[0;34m()\u001b[0m\n\u001b[1;32m      1\u001b[0m \u001b[0;31m# Somente inteiros são permitidos!\u001b[0m\u001b[0;34m\u001b[0m\u001b[0;34m\u001b[0m\u001b[0;34m\u001b[0m\u001b[0m\n\u001b[1;32m      2\u001b[0m \u001b[0;31m# Hey! O nosso primeiro erro!\u001b[0m\u001b[0;34m\u001b[0m\u001b[0;34m\u001b[0m\u001b[0;34m\u001b[0m\u001b[0m\n\u001b[0;32m----> 3\u001b[0;31m \u001b[0mstring1\u001b[0m\u001b[0;34m*\u001b[0m\u001b[0;36m5.0\u001b[0m\u001b[0;34m\u001b[0m\u001b[0;34m\u001b[0m\u001b[0m\n\u001b[0m",
            "\u001b[0;31mTypeError\u001b[0m: can't multiply sequence by non-int of type 'float'"
          ]
        }
      ]
    },
    {
      "cell_type": "code",
      "metadata": {
        "colab": {
          "base_uri": "https://localhost:8080/",
          "height": 202
        },
        "id": "86R-VgMgYZOz",
        "outputId": "d19881cd-e2a2-417b-d243-9b212b4b301f"
      },
      "source": [
        "# Hey! O nosso segundo erro!\n",
        "# O programa só entende a variavel que foi definida\n",
        "string*5"
      ],
      "execution_count": null,
      "outputs": [
        {
          "output_type": "error",
          "ename": "NameError",
          "evalue": "ignored",
          "traceback": [
            "\u001b[0;31m---------------------------------------------------------------------------\u001b[0m",
            "\u001b[0;31mNameError\u001b[0m                                 Traceback (most recent call last)",
            "\u001b[0;32m<ipython-input-44-8afa29c8bdc6>\u001b[0m in \u001b[0;36m<module>\u001b[0;34m()\u001b[0m\n\u001b[1;32m      1\u001b[0m \u001b[0;31m# Hey! O nosso segundo erro!\u001b[0m\u001b[0;34m\u001b[0m\u001b[0;34m\u001b[0m\u001b[0;34m\u001b[0m\u001b[0m\n\u001b[1;32m      2\u001b[0m \u001b[0;31m# O programa só entende a variavel que foi definida\u001b[0m\u001b[0;34m\u001b[0m\u001b[0;34m\u001b[0m\u001b[0;34m\u001b[0m\u001b[0m\n\u001b[0;32m----> 3\u001b[0;31m \u001b[0mstring\u001b[0m\u001b[0;34m*\u001b[0m\u001b[0;36m5\u001b[0m\u001b[0;34m\u001b[0m\u001b[0;34m\u001b[0m\u001b[0m\n\u001b[0m",
            "\u001b[0;31mNameError\u001b[0m: name 'string' is not defined"
          ]
        }
      ]
    },
    {
      "cell_type": "markdown",
      "metadata": {
        "id": "IyVpAAYPh1rZ"
      },
      "source": [
        "# **Métodos de strings**\n",
        "\n",
        "Há muitos métodos para manipular strings. É como ampliar seu vocabulário:\n",
        "\n",
        "https://www.w3schools.com/python/python_ref_string.asp"
      ]
    },
    {
      "cell_type": "code",
      "metadata": {
        "id": "0-BT-5oTYtrd",
        "colab": {
          "base_uri": "https://localhost:8080/"
        },
        "outputId": "96930161-48cf-436c-fca7-dffdf645d0dd"
      },
      "source": [
        "# Primeira letra maiúscula\n",
        "txt = \"olá, meu nome é Victor\"\n",
        "x = txt.capitalize()\n",
        "print(x)\n",
        "\n",
        "# tente .title() e .upper()"
      ],
      "execution_count": null,
      "outputs": [
        {
          "output_type": "stream",
          "text": [
            "Olá, meu nome é victor\n"
          ],
          "name": "stdout"
        }
      ]
    },
    {
      "cell_type": "code",
      "metadata": {
        "colab": {
          "base_uri": "https://localhost:8080/"
        },
        "id": "9DoO6XiciPAp",
        "outputId": "f140150b-c81b-4beb-f145-fda5d26f91db"
      },
      "source": [
        "# coloca todos caracteres em minusculo\n",
        "# .lower() ou .casefold()\n",
        "txt = \"Olá, Seja Bem Vindo Ao Mundo Do Python!\"\n",
        "x = txt.casefold()\n",
        "# x = txt.lower()\n",
        "print(x) \n",
        "\n",
        "# tente .swapcase() e .upper()\n",
        "#\n",
        "# tente também .istitle(). checa se a string\n",
        "# tem característica de titulo (todas palavras começam maiusculas)\n",
        "txt.istitle()"
      ],
      "execution_count": null,
      "outputs": [
        {
          "output_type": "stream",
          "text": [
            "olá, seja bem vindo ao mundo do python!\n"
          ],
          "name": "stdout"
        },
        {
          "output_type": "execute_result",
          "data": {
            "text/plain": [
              "True"
            ]
          },
          "metadata": {
            "tags": []
          },
          "execution_count": 50
        }
      ]
    },
    {
      "cell_type": "code",
      "metadata": {
        "colab": {
          "base_uri": "https://localhost:8080/"
        },
        "id": "bdMn08bMidPK",
        "outputId": "c76e94e3-d249-4a52-d5c6-733db721a645"
      },
      "source": [
        "# cria uma string com 20 caracteres\n",
        "# e centraliza o texto de txt\n",
        "txt = \"banana\"\n",
        "x = txt.center(20)\n",
        "print(len(x), x) \n",
        "\n",
        "# tente .ljust() e .rjust()"
      ],
      "execution_count": null,
      "outputs": [
        {
          "output_type": "stream",
          "text": [
            "20        banana       \n"
          ],
          "name": "stdout"
        }
      ]
    },
    {
      "cell_type": "code",
      "metadata": {
        "colab": {
          "base_uri": "https://localhost:8080/"
        },
        "id": "aqdgc3KbjVbA",
        "outputId": "0586244f-babd-4cc6-cb14-cf2d8adada22"
      },
      "source": [
        "# txt.count(str)\n",
        "# conta quantas vezes apareceu a string\n",
        "# str em txt\n",
        "txt = \" O rato roeu a roupa do rei de roma\"\n",
        "x = txt.count(\"r\")\n",
        "print(x) "
      ],
      "execution_count": null,
      "outputs": [
        {
          "output_type": "stream",
          "text": [
            "5\n"
          ],
          "name": "stdout"
        }
      ]
    },
    {
      "cell_type": "code",
      "metadata": {
        "colab": {
          "base_uri": "https://localhost:8080/"
        },
        "id": "_umoF_e1j6-A",
        "outputId": "e28b0f2c-d74e-4c0c-ce2d-da221ecb9758"
      },
      "source": [
        "# checa uma condição. A resposta é Boolean\n",
        "# se string termina com\n",
        "txt = \"Bem vindo.\"\n",
        "x = txt.endswith(\".\")\n",
        "print(x) "
      ],
      "execution_count": null,
      "outputs": [
        {
          "output_type": "stream",
          "text": [
            "True\n"
          ],
          "name": "stdout"
        }
      ]
    },
    {
      "cell_type": "code",
      "metadata": {
        "colab": {
          "base_uri": "https://localhost:8080/"
        },
        "id": "zR44ib9AkIRj",
        "outputId": "ee8cc8cb-afd9-4f1b-91ac-6713939e6f09"
      },
      "source": [
        "# Acha uma string e te diz a posição\n",
        "# Sintaxe: string.find(valor, inicio, fim)\n",
        "# Podemos indicar a região de procura\n",
        "txt = \"Onde está o Wally?\"\n",
        "x = txt.find(\"Wally\")\n",
        "x"
      ],
      "execution_count": null,
      "outputs": [
        {
          "output_type": "execute_result",
          "data": {
            "text/plain": [
              "12"
            ]
          },
          "metadata": {
            "tags": []
          },
          "execution_count": 57
        }
      ]
    },
    {
      "cell_type": "code",
      "metadata": {
        "colab": {
          "base_uri": "https://localhost:8080/"
        },
        "id": "nAvr31y-ki30",
        "outputId": "5549a270-4437-4388-fe10-2bd2449644a1"
      },
      "source": [
        "# util com a função print()\n",
        "txt = \"por apenas {valor:.2f} dolares!\"\n",
        "print(txt.format(valor = 49)) "
      ],
      "execution_count": null,
      "outputs": [
        {
          "output_type": "stream",
          "text": [
            "por apenas 49.00 dolares!\n"
          ],
          "name": "stdout"
        }
      ]
    },
    {
      "cell_type": "code",
      "metadata": {
        "colab": {
          "base_uri": "https://localhost:8080/"
        },
        "id": "D2dJHSxUlGDe",
        "outputId": "6b65ab5d-eb71-4bf2-efa9-e3e4ced7f026"
      },
      "source": [
        "# checagem da string\n",
        "txt = '145A'\n",
        "txt.isalnum()\n",
        "\n",
        "# Tente também com diferentes strings\n",
        "# isalnum()\t\n",
        "# isalpha()\t\n",
        "# isdecimal()\t\n",
        "# isdigit()\n",
        "# isidentifier()\n",
        "# islower()\n",
        "# isnumeric()\n",
        "# isprintable()\n",
        "# isspace()\n"
      ],
      "execution_count": null,
      "outputs": [
        {
          "output_type": "execute_result",
          "data": {
            "text/plain": [
              "True"
            ]
          },
          "metadata": {
            "tags": []
          },
          "execution_count": 64
        }
      ]
    },
    {
      "cell_type": "code",
      "metadata": {
        "id": "tYWZ6NM0mklu"
      },
      "source": [
        ""
      ],
      "execution_count": null,
      "outputs": []
    }
  ]
}