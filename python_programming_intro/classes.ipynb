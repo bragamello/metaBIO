{
  "nbformat": 4,
  "nbformat_minor": 0,
  "metadata": {
    "colab": {
      "name": "classes.ipynb",
      "provenance": []
    },
    "kernelspec": {
      "display_name": "Python 3",
      "name": "python3"
    },
    "language_info": {
      "name": "python"
    }
  },
  "cells": [
    {
      "cell_type": "markdown",
      "metadata": {
        "id": "A-sX1knpTGay"
      },
      "source": [
        "# Classes em Python\n",
        "\n",
        "Quase tudo no Python é uma classe!\n",
        "\n",
        "1. Bloco de código que só roda quando chamado\n",
        "\n",
        "2. Podemos passar argumentos\n",
        "\n",
        "3. modificar valores dos atributos da classe\n",
        "\n",
        "4. Utilização dos métodos (funções) da classe"
      ]
    },
    {
      "cell_type": "markdown",
      "metadata": {
        "id": "9l-eOqfAU4FN"
      },
      "source": [
        "**Tudo em Python é uma classe**"
      ]
    },
    {
      "cell_type": "code",
      "metadata": {
        "colab": {
          "base_uri": "https://localhost:8080/"
        },
        "id": "N7LsLv1jTFIj",
        "outputId": "90ff5876-9569-4e96-bc10-ef8fd0e8b9b8"
      },
      "source": [
        "a = 3\n",
        "print( type(a) )"
      ],
      "execution_count": null,
      "outputs": [
        {
          "output_type": "stream",
          "text": [
            "<class 'int'>\n"
          ],
          "name": "stdout"
        }
      ]
    },
    {
      "cell_type": "code",
      "metadata": {
        "colab": {
          "base_uri": "https://localhost:8080/"
        },
        "id": "Fbdk4NslVDl9",
        "outputId": "3f0ba134-b6d1-47ab-a624-fc93addc92c6"
      },
      "source": [
        "lista = ['a','b','c']\n",
        "print(type(lista))\n",
        "\n",
        "# append() é um método da classe lista!\n",
        "lista.append('d')\n",
        "print(lista)"
      ],
      "execution_count": null,
      "outputs": [
        {
          "output_type": "stream",
          "text": [
            "<class 'list'>\n",
            "['a', 'b', 'c', 'd']\n"
          ],
          "name": "stdout"
        }
      ]
    },
    {
      "cell_type": "markdown",
      "metadata": {
        "id": "kOTTgnz5Vcv-"
      },
      "source": [
        "**Declaração de uma classe**"
      ]
    },
    {
      "cell_type": "code",
      "metadata": {
        "colab": {
          "base_uri": "https://localhost:8080/"
        },
        "id": "564Jyw0sVPe0",
        "outputId": "005bba56-e737-4210-e015-74548f4cb4b6"
      },
      "source": [
        "class Pessoa:\n",
        "  # __init__() construtor: designar valores às aos atributos\n",
        "  # self: uma referência para a atual instância da classe(pode ter qualquer nome)\n",
        "  # acesso à variáveis dentro da classe\n",
        "  # name, age: nome dos atributos\n",
        "  # nome, idade: valores dos atributos\n",
        "  def __init__(self, nome, idade):\n",
        "    # designando valor do atributo\n",
        "    self.name = nome\n",
        "    self.age = idade\n",
        "  \n",
        "  # método\n",
        "  def myfunc(self):\n",
        "    print(\"olá meu nome é \" + self.name)\n",
        "\n",
        "# chamando classe\n",
        "p1 = Pessoa(\"Victor\", 30)\n",
        "\n",
        "print(p1.name)\n",
        "print(p1.age)\n",
        "print(type(p1))"
      ],
      "execution_count": null,
      "outputs": [
        {
          "output_type": "stream",
          "text": [
            "Victor\n",
            "30\n",
            "<class '__main__.Pessoa'>\n"
          ],
          "name": "stdout"
        }
      ]
    },
    {
      "cell_type": "code",
      "metadata": {
        "colab": {
          "base_uri": "https://localhost:8080/"
        },
        "id": "SZ-VPM_RZAuZ",
        "outputId": "708920d0-9f9d-4a54-9de9-5c0cf84acb81"
      },
      "source": [
        "# modificando o valor de um atributo\n",
        "p1.name = 'Linus'\n",
        "print(p1.name)"
      ],
      "execution_count": null,
      "outputs": [
        {
          "output_type": "stream",
          "text": [
            "Linus\n"
          ],
          "name": "stdout"
        }
      ]
    },
    {
      "cell_type": "markdown",
      "metadata": {
        "id": "R_bdq8uedqPU"
      },
      "source": [
        "**Uma outra maneira**"
      ]
    },
    {
      "cell_type": "code",
      "metadata": {
        "colab": {
          "base_uri": "https://localhost:8080/"
        },
        "id": "cU2uCdZIcJHd",
        "outputId": "9e3b5c1d-51ef-4863-cc4b-8eed148af628"
      },
      "source": [
        "class Pessoa:\n",
        "  # __init__() construtor: designar valores às aos atributos\n",
        "  # self: uma referência para a atual instância da classe(pode ter qualquer nome)\n",
        "  # acesso à variáveis dentro da classe\n",
        "  # name, age: nome dos atributos\n",
        "  # nome, idade: valores dos atributos\n",
        "  def __init__(self):\n",
        "    # designando valor do atributo\n",
        "    self.name = 'Default'\n",
        "    self.age = 0\n",
        "  \n",
        "  # método\n",
        "  def myfunc(self):\n",
        "    print(\"olá meu nome é \" + self.name)\n",
        "\n",
        "# chamando classe\n",
        "p1 = Pessoa()\n",
        "\n",
        "print(p1.name)\n",
        "print(p1.age)\n",
        "print(type(p1))"
      ],
      "execution_count": null,
      "outputs": [
        {
          "output_type": "stream",
          "text": [
            "Default\n",
            "0\n",
            "<class '__main__.Pessoa'>\n"
          ],
          "name": "stdout"
        }
      ]
    },
    {
      "cell_type": "markdown",
      "metadata": {
        "id": "GLjhSHBqVL6b"
      },
      "source": [
        "**Herança**"
      ]
    },
    {
      "cell_type": "markdown",
      "metadata": {
        "id": "u8E0UNjMWTlV"
      },
      "source": [
        "1. Sem novos atributos ou métodos"
      ]
    },
    {
      "cell_type": "code",
      "metadata": {
        "id": "T1nRoui-eCaW",
        "colab": {
          "base_uri": "https://localhost:8080/"
        },
        "outputId": "4730c9d3-4f7b-43dc-bc0a-71d848178cfa"
      },
      "source": [
        "############### classe mãe ############### \n",
        "class Pessoa:\n",
        "  # __init__() construtor: designar valores às aos atributos\n",
        "  # self: uma referência para a atual instância da classe(pode ter qualquer nome)\n",
        "  # acesso à variáveis dentro da classe\n",
        "  # name, age: nome dos atributos\n",
        "  # nome, idade: valores dos atributos\n",
        "  def __init__(self, nome, sobrenome):\n",
        "    # designando valor do atributo\n",
        "    self.fname = nome\n",
        "    self.lname = sobrenome\n",
        "  \n",
        "  # método\n",
        "  def printname(self):\n",
        "    print(\"olá meu nome é\", self.fname + ' ' +self.lname)\n",
        "############################################\n",
        "\n",
        "############### classe filha ############### \n",
        "class Estudante(Pessoa):\n",
        "  pass  \n",
        "############################################\n",
        "\n",
        "# chamando classe Estudante\n",
        "p1 = Estudante(\"Victor\", \"Mello\")\n",
        "\n",
        "print(p1.fname)\n",
        "print(p1.lname)\n",
        "p1.printname()"
      ],
      "execution_count": null,
      "outputs": [
        {
          "output_type": "stream",
          "text": [
            "Victor\n",
            "Mello\n",
            "olá meu nome é Victor Mello\n"
          ],
          "name": "stdout"
        }
      ]
    },
    {
      "cell_type": "markdown",
      "metadata": {
        "id": "Qh3p0xnfXMP7"
      },
      "source": [
        "2. **Função ```__init__() ``` na classe filha**\n",
        "\n",
        "A classe filha não irá herdar as propriedades e métodos da classe mãe"
      ]
    },
    {
      "cell_type": "code",
      "metadata": {
        "id": "hWqmKJEueFg-",
        "colab": {
          "base_uri": "https://localhost:8080/",
          "height": 236
        },
        "outputId": "82245409-031a-4a49-aa83-ad2a5b5e7f30"
      },
      "source": [
        "############### classe mãe ############### \n",
        "class Pessoa:\n",
        "  # __init__() construtor: designar valores às aos atributos\n",
        "  # self: uma referência para a atual instância da classe(pode ter qualquer nome)\n",
        "  # acesso à variáveis dentro da classe\n",
        "  # name, age: nome dos atributos\n",
        "  # nome, idade: valores dos atributos\n",
        "  def __init__(self, nome, sobrenome):\n",
        "    # designando valor do atributo\n",
        "    self.fname = nome\n",
        "    self.lname = sobrenome\n",
        "  \n",
        "  # método\n",
        "  def printname(self):\n",
        "    print(\"olá meu nome é\", self.fname + ' ' +self.lname)\n",
        "############################################\n",
        "\n",
        "############### classe filha ############### \n",
        "class Estudante(Pessoa):\n",
        "  def __init__(self, nome, sobrenome, data):\n",
        "    pass\n",
        "    #adicionar propriedades normalmente \n",
        "############################################\n",
        "\n",
        "# chamando classe Estudante\n",
        "p1 = Estudante(\"Victor\", \"Mello\", 2013)\n",
        "\n",
        "print(p1.fname)\n",
        "print(p1.lname)\n",
        "p1.printname()"
      ],
      "execution_count": null,
      "outputs": [
        {
          "output_type": "error",
          "ename": "AttributeError",
          "evalue": "ignored",
          "traceback": [
            "\u001b[0;31m---------------------------------------------------------------------------\u001b[0m",
            "\u001b[0;31mAttributeError\u001b[0m                            Traceback (most recent call last)",
            "\u001b[0;32m<ipython-input-82-2738dd469183>\u001b[0m in \u001b[0;36m<module>\u001b[0;34m()\u001b[0m\n\u001b[1;32m     26\u001b[0m \u001b[0mp1\u001b[0m \u001b[0;34m=\u001b[0m \u001b[0mEstudante\u001b[0m\u001b[0;34m(\u001b[0m\u001b[0;34m\"Victor\"\u001b[0m\u001b[0;34m,\u001b[0m \u001b[0;34m\"Mello\"\u001b[0m\u001b[0;34m,\u001b[0m \u001b[0;36m2013\u001b[0m\u001b[0;34m)\u001b[0m\u001b[0;34m\u001b[0m\u001b[0;34m\u001b[0m\u001b[0m\n\u001b[1;32m     27\u001b[0m \u001b[0;34m\u001b[0m\u001b[0m\n\u001b[0;32m---> 28\u001b[0;31m \u001b[0mprint\u001b[0m\u001b[0;34m(\u001b[0m\u001b[0mp1\u001b[0m\u001b[0;34m.\u001b[0m\u001b[0mfname\u001b[0m\u001b[0;34m)\u001b[0m\u001b[0;34m\u001b[0m\u001b[0;34m\u001b[0m\u001b[0m\n\u001b[0m\u001b[1;32m     29\u001b[0m \u001b[0mprint\u001b[0m\u001b[0;34m(\u001b[0m\u001b[0mp1\u001b[0m\u001b[0;34m.\u001b[0m\u001b[0mlname\u001b[0m\u001b[0;34m)\u001b[0m\u001b[0;34m\u001b[0m\u001b[0;34m\u001b[0m\u001b[0m\n\u001b[1;32m     30\u001b[0m \u001b[0mp1\u001b[0m\u001b[0;34m.\u001b[0m\u001b[0mprintname\u001b[0m\u001b[0;34m(\u001b[0m\u001b[0;34m)\u001b[0m\u001b[0;34m\u001b[0m\u001b[0;34m\u001b[0m\u001b[0m\n",
            "\u001b[0;31mAttributeError\u001b[0m: 'Estudante' object has no attribute 'fname'"
          ]
        }
      ]
    },
    {
      "cell_type": "markdown",
      "metadata": {
        "id": "tgaMNU6tYb7C"
      },
      "source": [
        "3. Herdando as propriedades e métodos"
      ]
    },
    {
      "cell_type": "code",
      "metadata": {
        "colab": {
          "base_uri": "https://localhost:8080/"
        },
        "id": "CyJAaAaCYRGZ",
        "outputId": "fdb255b4-5e2b-4e26-baf5-9d6cc63d444f"
      },
      "source": [
        "############### classe mãe ############### \n",
        "class Pessoa:\n",
        "  # __init__() construtor: designar valores às aos atributos\n",
        "  # self: uma referência para a atual instância da classe(pode ter qualquer nome)\n",
        "  # acesso à variáveis dentro da classe\n",
        "  # name, age: nome dos atributos\n",
        "  # nome, idade: valores dos atributos\n",
        "  def __init__(self, nome, sobrenome):\n",
        "    # designando valor do atributo\n",
        "    self.fname = nome\n",
        "    self.lname = sobrenome\n",
        "  \n",
        "  # método\n",
        "  def printname(self):\n",
        "    print(\"olá meu nome é\", self.fname + ' ' +self.lname)\n",
        "############################################\n",
        "\n",
        "############### classe filha ############### \n",
        "class Estudante(Pessoa):\n",
        "  def __init__(self, nome, sobrenome, data):\n",
        "    Pessoa.__init__(self,nome,sobrenome)\n",
        "    self.grad = data\n",
        "  def bemvindo(self):\n",
        "    print(\"Bem-vindo\", self.fname, self.lname, \"a turma\", self.grad)\n",
        "############################################\n",
        "\n",
        "# chamando classe Estudante\n",
        "p1 = Estudante(\"Victor\", \"Mello\", 2013)\n",
        "\n",
        "p1.printname()\n",
        "p1.bemvindo()"
      ],
      "execution_count": null,
      "outputs": [
        {
          "output_type": "stream",
          "text": [
            "olá meu nome é Victor Mello\n",
            "Bem-vindo Victor Mello a turma 2013\n"
          ],
          "name": "stdout"
        }
      ]
    },
    {
      "cell_type": "markdown",
      "metadata": {
        "id": "XJctlmC3aQuZ"
      },
      "source": [
        "Função super()"
      ]
    },
    {
      "cell_type": "code",
      "metadata": {
        "colab": {
          "base_uri": "https://localhost:8080/"
        },
        "id": "JY7_xDt8YwFB",
        "outputId": "c784ebec-8e47-41d1-a866-294f30e7f5ee"
      },
      "source": [
        "############### classe mãe ############### \n",
        "class Pessoa:\n",
        "  # __init__() construtor: designar valores às aos atributos\n",
        "  # self: uma referência para a atual instância da classe(pode ter qualquer nome)\n",
        "  # acesso à variáveis dentro da classe\n",
        "  # name, age: nome dos atributos\n",
        "  # nome, idade: valores dos atributos\n",
        "  def __init__(self, nome, sobrenome):\n",
        "    # designando valor do atributo\n",
        "    self.fname = nome\n",
        "    self.lname = sobrenome\n",
        "  \n",
        "  # método\n",
        "  def printname(self):\n",
        "    print(\"olá meu nome é\", self.fname + ' ' +self.lname)\n",
        "############################################\n",
        "\n",
        "############### classe filha ############### \n",
        "class Estudante(Pessoa):\n",
        "  def __init__(self, nome, sobrenome, data):\n",
        "    super().__init__(nome,sobrenome)\n",
        "    self.grad = data\n",
        "  def bemvindo(self):\n",
        "    print(\"Bem-vindo\", self.fname, self.lname, \"a turma\", self.grad)\n",
        "############################################\n",
        "\n",
        "# chamando classe Estudante\n",
        "p1 = Estudante(\"Victor\", \"Mello\", 2013)\n",
        "\n",
        "p1.printname()\n",
        "p1.bemvindo()"
      ],
      "execution_count": null,
      "outputs": [
        {
          "output_type": "stream",
          "text": [
            "olá meu nome é Victor Mello\n",
            "Bem-vindo Victor Mello a turma 2013\n"
          ],
          "name": "stdout"
        }
      ]
    },
    {
      "cell_type": "markdown",
      "metadata": {
        "id": "5XaO71mpapyV"
      },
      "source": [
        "Exemplo de aplicação. Criar uma classe que ordena listas de números"
      ]
    },
    {
      "cell_type": "code",
      "metadata": {
        "colab": {
          "base_uri": "https://localhost:8080/"
        },
        "id": "QFFxM2_daPOF",
        "outputId": "168988df-f73b-4fa3-daab-021d44f89066"
      },
      "source": [
        "# Classe\n",
        "class order:\n",
        "  # propriedades\n",
        "  def __init__(self,lista = [], ord_type = 'c'):\n",
        "    self.thelist = lista\n",
        "    self.thelistlen = len(lista)    \n",
        "    self.theord = ord_type\n",
        "  \n",
        "  # método de ordenamento crescente\n",
        "  def ordcresc(self):\n",
        "    clonelist = self.thelist.copy()\n",
        "    temp = []\n",
        "    for x in range( self.thelistlen ):\n",
        "      i = min(clonelist)\n",
        "      temp.append(i)\n",
        "      clonelist.remove(i)\n",
        "    return temp\n",
        "\n",
        "  # método de ordenamento decrescente\n",
        "  def orddecresc(self):\n",
        "    clonelist = self.thelist.copy()\n",
        "    temp = []\n",
        "    for x in range( self.thelistlen ):\n",
        "      i = max(clonelist)\n",
        "      temp.append(i)\n",
        "      clonelist.remove(i)\n",
        "    return temp\n",
        "\n",
        "  # função que escolhe o método aplicado\n",
        "  def dotheord(self):\n",
        "    if self.theord.lower() == 'c':\n",
        "      result = self.ordcresc()\n",
        "    elif self.theord.lower() == 'd':\n",
        "      result = self.orddecresc()\n",
        "    else:\n",
        "      print(\"Não há essa opção!\")\n",
        "      result = 'Erro!'\n",
        "    \n",
        "    return result\n",
        "\n",
        "# entrada de dados\n",
        "str_lista = input(\"Digite uma lista de números: \")\n",
        "\n",
        "# Transformar entrada em numeros\n",
        "lista = list( str_lista.split(' ') )\n",
        "lista = list( filter(None,lista)  )\n",
        "lista = list( map(float, lista) )\n",
        "\n",
        "# Entrada tipo de ordenamento\n",
        "ord_type = input(\"Digite C para ordernamento crescente e D para decrescente. Default é crescente: \")\n",
        "\n",
        "ordclass = order(lista, ord_type)\n",
        "print(ordclass.thelist,ordclass.theord)\n",
        "\n",
        "ordclass.dotheord()"
      ],
      "execution_count": null,
      "outputs": [
        {
          "output_type": "stream",
          "text": [
            "Digite uma lista de números: 21      5 7 444 58    5 6 \n",
            "Digite C para ordernamento crescente e D para decrescente. Default é crescente: d\n",
            "[21.0, 5.0, 7.0, 444.0, 58.0, 5.0, 6.0] d\n"
          ],
          "name": "stdout"
        },
        {
          "output_type": "execute_result",
          "data": {
            "text/plain": [
              "[444.0, 58.0, 21.0, 7.0, 6.0, 5.0, 5.0]"
            ]
          },
          "metadata": {
            "tags": []
          },
          "execution_count": 88
        }
      ]
    },
    {
      "cell_type": "code",
      "metadata": {
        "id": "J_ZPQL7MlekI"
      },
      "source": [
        ""
      ],
      "execution_count": null,
      "outputs": []
    }
  ]
}