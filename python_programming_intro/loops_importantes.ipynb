{
  "nbformat": 4,
  "nbformat_minor": 0,
  "metadata": {
    "colab": {
      "name": "loops-importantes.ipynb",
      "provenance": []
    },
    "kernelspec": {
      "name": "python3",
      "display_name": "Python 3"
    },
    "language_info": {
      "name": "python"
    }
  },
  "cells": [
    {
      "cell_type": "markdown",
      "metadata": {
        "id": "EiJ3Dr-CkB7N"
      },
      "source": [
        "# **Loops básicos importantes**\n",
        "\n",
        "Os próximos blocos de código apesar de simples são de grande importância"
      ]
    },
    {
      "cell_type": "code",
      "metadata": {
        "colab": {
          "base_uri": "https://localhost:8080/"
        },
        "id": "FmleP_5hj9HK",
        "outputId": "cbaf622e-2738-44ae-bd1f-447a1d01ba0e"
      },
      "source": [
        "# contador\n",
        "l = [1,2,25,63,50,115,36,964,45,88]\n",
        "\n",
        "cnt = 0\n",
        "for i in l:\n",
        "  print(i)\n",
        "  cnt = cnt+1\n",
        "\n",
        "print(\"numero de elementos = \", cnt, len(l))\n"
      ],
      "execution_count": null,
      "outputs": [
        {
          "output_type": "stream",
          "text": [
            "1\n",
            "2\n",
            "25\n",
            "63\n",
            "50\n",
            "115\n",
            "36\n",
            "964\n",
            "45\n",
            "88\n",
            "numero de elementos =  10 10\n"
          ],
          "name": "stdout"
        }
      ]
    },
    {
      "cell_type": "markdown",
      "metadata": {
        "id": "C0BxZt1zkrjP"
      },
      "source": [
        "**Exercício:** Modifique o código anterior para calcular a média dos elementos da lista"
      ]
    },
    {
      "cell_type": "code",
      "metadata": {
        "id": "ufrBk8nRk3Rs"
      },
      "source": [
        "#@title Clique para ver a resposta { display-mode: \"form\" }\n",
        "# calcular a media\n",
        "l = [1,2,25,63,50,115,36,964,45,88]\n",
        "\n",
        "cnt = 0\n",
        "tot = 0\n",
        "for i in l:\n",
        "  print(i)\n",
        "  cnt = cnt+1\n",
        "  tot = tot + i\n",
        "\n",
        "mean = tot/cnt\n",
        "print(\"numero de elementos = \", cnt, len(l))\n",
        "print(\"media = \", mean)"
      ],
      "execution_count": null,
      "outputs": []
    },
    {
      "cell_type": "code",
      "metadata": {
        "id": "mT-FUSvJlQtD"
      },
      "source": [
        "#@title Clique para obter a resposta { display-mode: \"form\" }\n",
        "# calcular a media\n",
        "l = [1,2,25,63,50,115,36,964,45,88]\n",
        "\n",
        "tot = 0\n",
        "for i in range(len(l)):\n",
        "  print(i)\n",
        "  tot = tot + l[i]\n",
        "\n",
        "mean = tot/len(l)\n",
        "print(\"media = \", mean)"
      ],
      "execution_count": null,
      "outputs": []
    },
    {
      "cell_type": "code",
      "metadata": {
        "colab": {
          "base_uri": "https://localhost:8080/"
        },
        "id": "Ets2ax20kbNn",
        "outputId": "92b5d64a-1606-491d-ff79-b5a68eaee594"
      },
      "source": [
        "# encher uma lista vazia\n",
        "\n",
        "# empty\n",
        "l = []\n",
        "\n",
        "for i in range(10):\n",
        "  l.append(i)\n",
        "\n",
        "print(\"a lista = \", l)"
      ],
      "execution_count": null,
      "outputs": [
        {
          "output_type": "stream",
          "text": [
            "a lista =  [0, 1, 2, 3, 4, 5, 6, 7, 8, 9]\n"
          ],
          "name": "stdout"
        }
      ]
    },
    {
      "cell_type": "code",
      "metadata": {
        "id": "ERUyLK-DloK6"
      },
      "source": [
        ""
      ],
      "execution_count": null,
      "outputs": []
    }
  ]
}