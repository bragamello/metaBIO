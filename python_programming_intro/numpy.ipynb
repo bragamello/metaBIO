{
  "nbformat": 4,
  "nbformat_minor": 0,
  "metadata": {
    "colab": {
      "name": "numpy.ipynb",
      "provenance": [],
      "collapsed_sections": []
    },
    "kernelspec": {
      "name": "python3",
      "display_name": "Python 3"
    },
    "language_info": {
      "name": "python"
    }
  },
  "cells": [
    {
      "cell_type": "markdown",
      "metadata": {
        "id": "XHUQwaDxTYnq"
      },
      "source": [
        "#**Biblioteca numpy**\n",
        "\n",
        "Funções básicas da Numpy"
      ]
    },
    {
      "cell_type": "markdown",
      "metadata": {
        "id": "dTuhNhoqT957"
      },
      "source": [
        "# 1. Definindo um array"
      ]
    },
    {
      "cell_type": "code",
      "metadata": {
        "colab": {
          "base_uri": "https://localhost:8080/"
        },
        "id": "YBa1ouNwLi1R",
        "outputId": "e5483a80-ec67-44ad-b206-8d293022922c"
      },
      "source": [
        "import numpy\n",
        "\n",
        "# 1D array - 1 linha com 6 colunas\n",
        "a = numpy.array([1, 2, 3, 4, 5, 6])\n",
        "print(a.ndim)\n",
        "print(a.shape)\n",
        "print(a.size)\n",
        "\n",
        "print(\"  \")\n",
        "\n",
        "import numpy as np\n",
        "\n",
        "# 1D array - 1 linha com 6 colunas\n",
        "a = np.array([1, 2, 3, 4, 5, 6])\n",
        "print(a.ndim)\n",
        "print(a.shape)\n",
        "print(a.size)\n",
        "\n",
        "print(\"  \")\n",
        "\n",
        "# 2D array - 3 linhas e 4 colunas\n",
        "b = np.array([ [1, 2, 3, 4], [5, 6, 7, 8], [9, 10, 11, 12] ])\n",
        "print(b.ndim)\n",
        "print(b.shape)\n",
        "print(b.size)\n",
        "\n",
        "n = 10\n",
        "# array de zeros\n",
        "zeros = np.zeros(n)\n",
        "\n",
        "# array de 1\n",
        "ones = np.ones((n,n))\n",
        "\n",
        "# array vazio\n",
        "empty = np.empty(n)\n",
        "\n",
        "# array ordenado. Similar a função range()\n",
        "order1 = np.arange(0,n,2) # 0 até n, de 2 em 2\n",
        "order2 = np.linspace(0,1,n) # n números de 0 até 1\n",
        "print(zeros)\n",
        "print(ones)\n",
        "print(empty)\n",
        "print(order1)\n",
        "print(order2)\n",
        "\n",
        "# array complexo\n",
        "c = np.array([[1, 2], [3, 4]], dtype=complex)\n",
        "print(c)"
      ],
      "execution_count": null,
      "outputs": [
        {
          "output_type": "stream",
          "text": [
            "1\n",
            "(6,)\n",
            "6\n",
            "  \n",
            "1\n",
            "(6,)\n",
            "6\n",
            "  \n",
            "2\n",
            "(3, 4)\n",
            "12\n",
            "[0. 0. 0. 0. 0. 0. 0. 0. 0. 0.]\n",
            "[[1. 1. 1. 1. 1. 1. 1. 1. 1. 1.]\n",
            " [1. 1. 1. 1. 1. 1. 1. 1. 1. 1.]\n",
            " [1. 1. 1. 1. 1. 1. 1. 1. 1. 1.]\n",
            " [1. 1. 1. 1. 1. 1. 1. 1. 1. 1.]\n",
            " [1. 1. 1. 1. 1. 1. 1. 1. 1. 1.]\n",
            " [1. 1. 1. 1. 1. 1. 1. 1. 1. 1.]\n",
            " [1. 1. 1. 1. 1. 1. 1. 1. 1. 1.]\n",
            " [1. 1. 1. 1. 1. 1. 1. 1. 1. 1.]\n",
            " [1. 1. 1. 1. 1. 1. 1. 1. 1. 1.]\n",
            " [1. 1. 1. 1. 1. 1. 1. 1. 1. 1.]]\n",
            "[0. 0. 0. 0. 0. 0. 0. 0. 0. 0.]\n",
            "[0 2 4 6 8]\n",
            "[0.         0.11111111 0.22222222 0.33333333 0.44444444 0.55555556\n",
            " 0.66666667 0.77777778 0.88888889 1.        ]\n",
            "[[1.+0.j 2.+0.j]\n",
            " [3.+0.j 4.+0.j]]\n"
          ],
          "name": "stdout"
        }
      ]
    },
    {
      "cell_type": "markdown",
      "metadata": {
        "id": "I_PaX-b7ftzB"
      },
      "source": [
        "# 2. Reshape: mudando a forma"
      ]
    },
    {
      "cell_type": "code",
      "metadata": {
        "colab": {
          "base_uri": "https://localhost:8080/"
        },
        "id": "EVoIX68wjgeM",
        "outputId": "bfe2e375-0c15-45de-bd7f-80f983ff9a4d"
      },
      "source": [
        "arr = np.arange(6)\n",
        "\n",
        "# remodelando: 3 linhas e 2 colunas\n",
        "x = arr.reshape(3,2)\n",
        "print(x)\n",
        "print(x.flatten())\n",
        "print(x.ravel())\n",
        "print(x.T)\n",
        "\n",
        "\n"
      ],
      "execution_count": null,
      "outputs": [
        {
          "output_type": "stream",
          "text": [
            "[[0 1]\n",
            " [2 3]\n",
            " [4 5]]\n",
            "[0 1 2 3 4 5]\n",
            "[0 1 2 3 4 5]\n",
            "[[0 2 4]\n",
            " [1 3 5]]\n"
          ],
          "name": "stdout"
        }
      ]
    },
    {
      "cell_type": "markdown",
      "metadata": {
        "id": "XF9SmBpAfyr_"
      },
      "source": [
        "# 3. Cópia de um array\n",
        "\n",
        "Ao usar o operador de desígnio de variáveis '=' para criar um novo array, este ficará vinculado ao original e mudanças nele irão propagar entre os arrays"
      ]
    },
    {
      "cell_type": "code",
      "metadata": {
        "colab": {
          "base_uri": "https://localhost:8080/"
        },
        "id": "h2s1WLbsf1bN",
        "outputId": "654245b3-999a-4b75-a85f-aaac05789ebd"
      },
      "source": [
        "y = np.array([1.5,65.8,30,54.5,100.1])\n",
        "newarr1 = y\n",
        "print(newarr1 is y)\n",
        "\n",
        "newarr2 = y.copy()\n",
        "print(newarr2 is y)\n"
      ],
      "execution_count": null,
      "outputs": [
        {
          "output_type": "stream",
          "text": [
            "True\n",
            "False\n"
          ],
          "name": "stdout"
        }
      ]
    },
    {
      "cell_type": "markdown",
      "metadata": {
        "id": "-hPXqnVDf1_f"
      },
      "source": [
        "# 4. Indexando e fatiando um array\n",
        "\n",
        "Similar ao aprendido para strings e listas"
      ]
    },
    {
      "cell_type": "code",
      "metadata": {
        "colab": {
          "base_uri": "https://localhost:8080/"
        },
        "id": "q1KbyNTEf4AA",
        "outputId": "2b42c794-e8ea-4287-f67a-b36025d4b923"
      },
      "source": [
        "a = np.arange(10)\n",
        "print(a[0])\n",
        "print(a[1:3])\n",
        "print(a[::3])\n",
        "\n",
        "# loop: Só utilizar quando necessário!\n",
        "for i in a:\n",
        "  print(a[i])"
      ],
      "execution_count": null,
      "outputs": [
        {
          "output_type": "stream",
          "text": [
            "0\n",
            "[1 2]\n",
            "[0 3 6 9]\n",
            "0\n",
            "1\n",
            "2\n",
            "3\n",
            "4\n",
            "5\n",
            "6\n",
            "7\n",
            "8\n",
            "9\n"
          ],
          "name": "stdout"
        }
      ]
    },
    {
      "cell_type": "markdown",
      "metadata": {
        "id": "0Mc8oaLVrYNY"
      },
      "source": [
        "# 5. Operações"
      ]
    },
    {
      "cell_type": "code",
      "metadata": {
        "colab": {
          "base_uri": "https://localhost:8080/"
        },
        "id": "R15RWVQqqdGU",
        "outputId": "670d8b31-5a27-4d84-c804-8962366fb5df"
      },
      "source": [
        "a = np.arange(10,20,1)\n",
        "b = np.arange(0,10,1)\n",
        "\n",
        "# operações básicas: +,-,*,/,**\n",
        "c = a + b\n",
        "print(c)\n",
        "\n",
        "# Funções matemáticas\n",
        "c = np.exp(-b)\n",
        "print(c)"
      ],
      "execution_count": null,
      "outputs": [
        {
          "output_type": "stream",
          "text": [
            "[10 12 14 16 18 20 22 24 26 28]\n",
            "[1.00000000e+00 3.67879441e-01 1.35335283e-01 4.97870684e-02\n",
            " 1.83156389e-02 6.73794700e-03 2.47875218e-03 9.11881966e-04\n",
            " 3.35462628e-04 1.23409804e-04]\n"
          ],
          "name": "stdout"
        }
      ]
    },
    {
      "cell_type": "markdown",
      "metadata": {
        "id": "fREqMY2VtszQ"
      },
      "source": [
        "# Dica importante!"
      ]
    },
    {
      "cell_type": "code",
      "metadata": {
        "colab": {
          "base_uri": "https://localhost:8080/"
        },
        "id": "xTjvptXIr-6P",
        "outputId": "70739cf1-5f19-4922-897b-745ec3ebbad0"
      },
      "source": [
        "# preenchendo um array\n",
        "arr = np.zeros(10)\n",
        "for idx, val in enumerate(arr):\n",
        "  arr[idx] = idx**2\n",
        "print(arr)\n",
        "\n",
        "# exemplo mais simples de broadcasting\n",
        "arr = np.arange(10)**2\n",
        "print(arr)"
      ],
      "execution_count": null,
      "outputs": [
        {
          "output_type": "stream",
          "text": [
            "[ 0.  1.  4.  9. 16. 25. 36. 49. 64. 81.]\n",
            "[ 0  1  4  9 16 25 36 49 64 81]\n"
          ],
          "name": "stdout"
        }
      ]
    },
    {
      "cell_type": "markdown",
      "metadata": {
        "id": "ocYJC8kQuzAD"
      },
      "source": [
        "# (Extra) Números pseudo-aleatórios\n",
        "Útil em métodos numéricos e ao analisarmos probabilidades e suas distribuições"
      ]
    },
    {
      "cell_type": "code",
      "metadata": {
        "colab": {
          "base_uri": "https://localhost:8080/"
        },
        "id": "V2RQxuqJu3YP",
        "outputId": "f86c5a0b-ac55-4626-f6dd-9b41c8f06584"
      },
      "source": [
        "# entre 0 e 1\n",
        "rnd = np.random.rand(10)\n",
        "print(rnd)\n",
        "\n",
        "# gaussiana de média mu e desvio padrão sigma\n",
        "mu = 0\n",
        "sigma = 1\n",
        "rnd = np.random.normal(mu,sigma,10)\n",
        "print(rnd)\n",
        "\n",
        "# embaralhar\n",
        "a = np.arange(10)\n",
        "np.random.shuffle(a)\n",
        "print(a)\n",
        "\n",
        "# amostragem\n",
        "a = np.random.uniform(0,100,100)\n",
        "smp = np.random.choice(a,10)\n",
        "print(smp)\n"
      ],
      "execution_count": null,
      "outputs": [
        {
          "output_type": "stream",
          "text": [
            "[0.62815694 0.58226063 0.10015956 0.1981678  0.28963431 0.06497216\n",
            " 0.02712036 0.08165593 0.64842721 0.84180335]\n",
            "[ 0.25582138 -1.26807682  1.34591473  2.39577461  1.1284577  -0.20372282\n",
            " -0.25340953  1.30655757 -0.00666844 -0.76057742]\n",
            "[0 3 4 6 5 2 8 1 9 7]\n",
            "[45.36063298  7.67267501 56.35103761 57.24433516 79.95331611 76.18719814\n",
            " 97.46488638 61.01553861 48.02370243 55.81768904]\n"
          ],
          "name": "stdout"
        }
      ]
    }
  ]
}