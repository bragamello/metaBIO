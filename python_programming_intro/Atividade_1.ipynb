{
  "nbformat": 4,
  "nbformat_minor": 0,
  "metadata": {
    "colab": {
      "name": "Atividade-1.ipynb",
      "provenance": []
    },
    "kernelspec": {
      "name": "python3",
      "display_name": "Python 3"
    },
    "language_info": {
      "name": "python"
    }
  },
  "cells": [
    {
      "cell_type": "markdown",
      "metadata": {
        "id": "aldbUBhKXxsd"
      },
      "source": [
        "**Atividade 1:** Python básico\n",
        "\n",
        "Todas as respostas devem estar acompanhadas do algoritmo explicando a sua solução (Uma explicação por extenso também será aceita)"
      ]
    },
    {
      "cell_type": "markdown",
      "metadata": {
        "id": "TdWiwP_LX6-Q"
      },
      "source": [
        "**Q.1 -** \n",
        "\n",
        "a) Faça uma função que receba como entrada uma lista e retorne o maior elemento da mesma\n",
        "\n",
        "b) Ordene uma lista de forma decrescente utilizando a função da letra (a)\n",
        "\n",
        "c) Utilizando os resultados de (a) e (b), faça um código no qual o usuário possa digitar quantos números quiser (separados por espaço) e o ordenamento desejado (em ordem crescente ou decrescente). Seu programa deve ordenar imprimir na tela a lista original e a lista ordenada conforme pedido pelo usuário."
      ]
    },
    {
      "cell_type": "markdown",
      "metadata": {
        "id": "K83YgwowsWd8"
      },
      "source": [
        "**Q.2 -** Elabore um código que, por simplicidade, tenha definido dentro dele 5 pares de usuários e senhas pré-estabelicidos. Seu programa deve receber do teclado um usuário e uma senha e deve verificar se o que foi digitado pertence ou não aos usuários pré-definidos. Em caso negativo informe numa mensagem de erro sobre o que ocorreu (usuário e/ou senha não identificados). "
      ]
    },
    {
      "cell_type": "markdown",
      "metadata": {
        "id": "q9_P_5G-skGZ"
      },
      "source": [
        "**Q.3 -** Considere as duas sequências de DNA fornecidas. Elas pertencem a duas espécies de lagarto do genero Mabuya\n",
        "\n",
        "a) Verifique se as duas sequências são do mesmo tamanho\n",
        "\n",
        "b) Crie um função que meça o grau de similaridade entre as sequências e calcule seu valor\n",
        "\n",
        "c) Considerando que há a possibilidade da ocorrência natural da chamada transição, na qual há trocas de bases C $\\rightleftharpoons$ T ou A $\\rightleftharpoons$ G, determine se esse fenômeno pode ter ocorrido e sua possível frequência de ocorrência"
      ]
    },
    {
      "cell_type": "code",
      "metadata": {
        "id": "Z-wmIPjZsarM"
      },
      "source": [
        "# Sequencias de DNA para questao 3\n",
        "dna1 = \"ttgtcttctaaataaagaccagtatgaacggctaaatgaggacaaacctgtctcttttaactaatcagtgaaactgatctcccagtacaaaagctgggatacaaacataagacgagaagaccccgtggagcttaaaacaaaaccaccaatcca--c------gccctgg-accctggtggactgttttgagttggggcgacttcggaataaaaagaaacttccgagcacagaaccac-aaattctaaccaaggccaacaagcctaagcata---taa-ctgacccggccc--acgccgatcaacgaaccaagttaccccggggataacagcgctatcttcttcaagagtccctatcaacaagaaggtttacgacctcgatgttggatcaggacacccaaatggtgcagccgctattaaaggttcgtttgttcaacgatt\"\n",
        "dna2 = \"TTGTCTTTTAAATAAAGACCTGTATGAATGGCTGAATGAGGATAAACCTGTCTCTTATAACTAATCAGTGAAACTGATCTCCCAGTACAAAAGCTGGAATATACACATAAGACGAGAAGACCCTGTGGAGCTTAAAAC-AAACCACTAAACAA-----GT--ATACCACTACCTTAGTGTAC-GTTTTCAGTTGGGGCGACTTCGGAATAAAATGAAACTTCCGAGCACAGAGGCAC-TTCCTCTAACTAAGGCCAACAAGCCAAAGACCC---ATAAACGACCCGGCC---TTGCCGATCAACGAACCAAGTTACCCCAGGGATAACAGCGCAATCTTCTTCGAGAGCCCTTATCAACAAGAAGGTTTACGACCTCGATGTTGGATCAGGACACCCAAATGGTGCAGCCGCTATTAAAGGTTCGTTTGTTCAACGATT\""
      ],
      "execution_count": null,
      "outputs": []
    },
    {
      "cell_type": "markdown",
      "metadata": {
        "id": "545JnLClXv8H"
      },
      "source": [
        "**Q.4**\n",
        "\n",
        "a) Crie um código que implemente a chamada cifra de César para criptografia (substituição cíclica de um caracter por outro). Dica: procure pelas funções str(), chr() e ord() em Python\n",
        "\n",
        "b) Crie um programa capaz de decodificar essa cifra\n",
        "\n",
        "c) Sem aplicar o decodificador criado e baseado nos seus conhecimentos da estrutura da língua portuguesa, decodifique a seguinte frase (explique detalhadamente seu processo de decodificação e a base dele). Ao final, aplique\n",
        "\n",
        "\"Cui ntwz viakmc vi zci Xiaamu lm twvom jwvlma wvqjca zqw lm ikw lw bzinmow Cui ntwz iqvli lmajwbili qtclm i xwtqkqi zwuxm w ianitbw Nikiu kwuxtmbw aqtmvkqw xizitqamu wa vmowkqwa oizivbw ycm cui ntwz viakmc Aci kwz viw am xmzkmjm Acia xmbitia viw am ijzmu Amc vwum viw mabi vwa tqdzwa M nmqi Uia M zmitumvbm cui ntwz\""
      ]
    }
  ]
}