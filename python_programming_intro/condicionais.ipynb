{
  "nbformat": 4,
  "nbformat_minor": 0,
  "metadata": {
    "colab": {
      "name": "condicionais.ipynb",
      "provenance": []
    },
    "kernelspec": {
      "name": "python3",
      "display_name": "Python 3"
    },
    "language_info": {
      "name": "python"
    }
  },
  "cells": [
    {
      "cell_type": "markdown",
      "metadata": {
        "id": "vTrq8IB2Afdr"
      },
      "source": [
        "# **Estruturas condicionais**\n",
        "\n",
        "Uma das estruturas (ou fluxo) de controle (flow control) em programação $\\to$ O programa realiza tarefas diferentes de acordo com as condições\n",
        "\n",
        "Operadores de comparação e Booleans\n",
        "\n",
        "x == y $\\to$ True se x é igual y (False caso contrário)\n",
        "\n",
        "x != y $\\to$ True se x não é igual y (False caso contrário)\n",
        "\n",
        "x > y $\\to$  True se x é maior que y (False caso contrário)\n",
        "\n",
        "x < y $\\to$  True se x é menor que y (False caso contrário)\n",
        "\n",
        "x >= y $\\to$ True se x é maior ou igual a y (False caso contrário)\n",
        "\n",
        "x <= y $\\to$ True se x é menor ou igual a y (False caso contrário)"
      ]
    },
    {
      "cell_type": "code",
      "metadata": {
        "colab": {
          "base_uri": "https://localhost:8080/"
        },
        "id": "cRbUKwPq-Phl",
        "outputId": "3ef22507-e333-4ef0-e2c2-e2fe7907ed3e"
      },
      "source": [
        "x = 1\n",
        "y = 2\n",
        "\n",
        "# Teste todas as comparações\n",
        "x != y"
      ],
      "execution_count": null,
      "outputs": [
        {
          "output_type": "execute_result",
          "data": {
            "text/plain": [
              "True"
            ]
          },
          "metadata": {
            "tags": []
          },
          "execution_count": 1
        }
      ]
    },
    {
      "cell_type": "markdown",
      "metadata": {
        "id": "fkEQriibHWHx"
      },
      "source": [
        "Podemos fazer multiplas comparações\n",
        "\n",
        "1. and: (condição1 e condição2) $\\to$ Ambas devem ser verdadeiras para produzir um True\n",
        "\n",
        "2. or: (condição1 ou condição2) $\\to$ Uma delas deve ser verdadeira para produzir um True\n",
        "\n",
        "Por óbvio, caso contrário, produzirá um False. Sugiro vocês pesquisarem sobre álgebra booleana e tabelas da verdade"
      ]
    },
    {
      "cell_type": "code",
      "metadata": {
        "colab": {
          "base_uri": "https://localhost:8080/"
        },
        "id": "ymFN6YfaHSL_",
        "outputId": "a1f54f6f-0597-4fc8-bdfa-54ff8e83de2e"
      },
      "source": [
        "# Teste múltiplas combinações\n",
        "x = 1\n",
        "y = 2\n",
        "\n",
        "# and: ambas devem ser verdadeiras\n",
        "# or : pelo menos uma deve ser verdadeira\n",
        "(x == 1 and y == 2)"
      ],
      "execution_count": null,
      "outputs": [
        {
          "output_type": "execute_result",
          "data": {
            "text/plain": [
              "True"
            ]
          },
          "metadata": {
            "tags": []
          },
          "execution_count": 2
        }
      ]
    },
    {
      "cell_type": "markdown",
      "metadata": {
        "id": "TEzij0LoIiFv"
      },
      "source": [
        "Operador not: nega a expressão booleana (produz o resultado contrário). É útil para simplificar algumas expressões lógicas"
      ]
    },
    {
      "cell_type": "code",
      "metadata": {
        "colab": {
          "base_uri": "https://localhost:8080/"
        },
        "id": "IRK_1azqHrO_",
        "outputId": "fb4bc892-bbdf-4f6a-9e9e-07277c3f9298"
      },
      "source": [
        "not (x != 1 or y == 2)"
      ],
      "execution_count": null,
      "outputs": [
        {
          "output_type": "execute_result",
          "data": {
            "text/plain": [
              "False"
            ]
          },
          "metadata": {
            "tags": []
          },
          "execution_count": 3
        }
      ]
    },
    {
      "cell_type": "markdown",
      "metadata": {
        "id": "KlXVeOD4JBTm"
      },
      "source": [
        "# **if, else e elif**\n",
        "if, else e elif $\\to$ verifica uma condição e muda o programa de acordo. A condição é verificada através de expressões booleanas com as vistas acima. Em termos de sintaxe, note a identação (4 espaços ou 1 tab) e o \":\" para finalizar\n",
        "\n",
        "if (comparação1):\n",
        "\n",
        "$\\quad$ codigo1\n",
        "    \n",
        "elif (outra comparação):\n",
        "    \n",
        "$\\quad$ codigo2\n",
        "\n",
        "else:\n",
        "\n",
        "$\\quad$ codigo3"
      ]
    },
    {
      "cell_type": "markdown",
      "metadata": {
        "id": "jTQfPgD7Q3kD"
      },
      "source": [
        "Vamos apresentar alguns exemplos de código com o intuito de mostrar como funciona a sintaxe. Contudo, a utilização das estruturas condicionais é tão ampla e dependente do problema analisado (algoritmo) que obviamente não cobriremos aqui todas as possibilidades.\n",
        "\n",
        "**Exercício:** Construa os diagramas de fluxo de controle (fluxograma) para cada exemplo"
      ]
    },
    {
      "cell_type": "code",
      "metadata": {
        "colab": {
          "base_uri": "https://localhost:8080/"
        },
        "id": "OE_NUzpAI0OH",
        "outputId": "fa0ed421-bdaa-4158-dfdd-c8f64dede83d"
      },
      "source": [
        "# exemplo 1: Número digitado é igual a 1 ou não\n",
        "x = float(input('digite um número: '))\n",
        "\n",
        "# note a identação\n",
        "if x == 1:\n",
        "    print(\"x é igual a 1\")\n",
        "else:\n",
        "    print(\"x não é igual 1\")"
      ],
      "execution_count": null,
      "outputs": [
        {
          "output_type": "stream",
          "text": [
            "digite um número: 5\n",
            "x não é igual 1\n"
          ],
          "name": "stdout"
        }
      ]
    },
    {
      "cell_type": "code",
      "metadata": {
        "colab": {
          "base_uri": "https://localhost:8080/"
        },
        "id": "mA0btbP7KJf5",
        "outputId": "f6f8754e-15c4-4652-8752-abaa8c90f48e"
      },
      "source": [
        "# exemplo 2\n",
        "# input do teclado. Colocamos a string em minúsculo com .lower()\n",
        "answer = input(\"Are you loving Python? Yes or No >> \").lower()\n",
        "\n",
        "# If/else/elif condicional\n",
        "# IMPORTANT: identação é parte do código\n",
        "if answer == \"yes\":\n",
        "    print(\"You have cleared the test.\")\n",
        "else:\n",
        "    print(\"You shall not pass!\")\n",
        "\n",
        "print(\"Thanks!\")"
      ],
      "execution_count": null,
      "outputs": [
        {
          "output_type": "stream",
          "text": [
            "Are you loving Python? Yes or No >> yes\n",
            "You have cleared the test.\n",
            "Thanks!\n"
          ],
          "name": "stdout"
        }
      ]
    },
    {
      "cell_type": "markdown",
      "metadata": {
        "id": "JK6tfBkRLVnD"
      },
      "source": [
        "Usando if, else e elif"
      ]
    },
    {
      "cell_type": "code",
      "metadata": {
        "colab": {
          "base_uri": "https://localhost:8080/"
        },
        "id": "Co8rk_vVK3Rz",
        "outputId": "be8a2471-db75-4561-a109-613ef8351ed4"
      },
      "source": [
        "# exemplo 3\n",
        "x = float(input(\"digite x\"))\n",
        "y = float(input(\"digite y\"))\n",
        "\n",
        "if x < y:\n",
        "    print(\"Afirmação A \")\n",
        "    \n",
        "elif x > y:\n",
        "    print(\"Afirmação B \")\n",
        "\n",
        "# x == y é a unica possibilidade\n",
        "# poderia ser elif x == y:\n",
        "else:\n",
        "    print(\"Afirmação C\")\n",
        "    \n",
        "print(\"ufa! sai das condicionais\")"
      ],
      "execution_count": null,
      "outputs": [
        {
          "output_type": "stream",
          "text": [
            "digite x5\n",
            "digite y46\n",
            "Afirmação A \n",
            "ufa! sai das condicionais\n"
          ],
          "name": "stdout"
        }
      ]
    },
    {
      "cell_type": "markdown",
      "metadata": {
        "id": "dW4NMiTiL8nd"
      },
      "source": [
        "Condições aninhadas ou convoluídas (nested conditional) $\\to$ uma dentro da outra"
      ]
    },
    {
      "cell_type": "code",
      "metadata": {
        "colab": {
          "base_uri": "https://localhost:8080/"
        },
        "id": "W-TNMlQvLjC4",
        "outputId": "c82d861b-0c53-4cfd-f2d7-0b52cfbe7159"
      },
      "source": [
        "answer = input(\"Você gosta de futebol? sim ou não?\").lower()\n",
        "\n",
        "if answer == \"sim\":\n",
        "    time = input(\"Qual o seu time?\").lower()\n",
        "    if time == \"flamengo\":\n",
        "        print(\"parabéns\")\n",
        "    elif time == \"vasco\":\n",
        "        print(\"você sofre\")\n",
        "    elif time == \"botafogo\":\n",
        "        print(\"você sofre e é velho\")        \n",
        "    else:\n",
        "        print(\"ninguém se importa então!\")\n",
        "else:\n",
        "    print(\"volei é mais legal né?\")"
      ],
      "execution_count": null,
      "outputs": [
        {
          "output_type": "stream",
          "text": [
            "Você gosta de futebol? sim ou não?não\n",
            "volei é mais legal né?\n"
          ],
          "name": "stdout"
        }
      ]
    },
    {
      "cell_type": "markdown",
      "metadata": {
        "id": "pt9991PTSVEX"
      },
      "source": [
        "# **Tratamento de Exceção**\n",
        "\n",
        "Também é uma estrutura de controle de fluxo mas aplicada a uma situação específica: tratar possíveis problemas no código. Exceção é quando uma coisa não ocorre da forma como foi planejada. Pode-se dizer que os programas tem um fluxo normal e um fluxo excepcional, que são as exceções. Daremos aqui somente uma introdução. Na sintaxe, note a identação e o \":\" ao final\n",
        "\n",
        "try:\n",
        "\n",
        "$\\quad$ código tentativa (pode ocorrer uma exceção)\n",
        "\n",
        "except AlgumaExcecao:\n",
        "\n",
        "$\\quad$ código no caso de exceção em try\n",
        "\n",
        "else:\n",
        "\n",
        "$\\quad$ código caso não ocorra exceção em try\n",
        "\n",
        "finally:\n",
        "\n",
        "$\\quad$ código que é executado sempre, independente de haver uma exceção ou não\n"
      ]
    },
    {
      "cell_type": "markdown",
      "metadata": {
        "id": "FUJk0HepUQjH"
      },
      "source": [
        "**Exemplo clássico:** Divisão por 0"
      ]
    },
    {
      "cell_type": "code",
      "metadata": {
        "id": "J-TNe_oVMX5b",
        "colab": {
          "base_uri": "https://localhost:8080/"
        },
        "outputId": "36e43117-a169-4982-8762-ee2555ba2467"
      },
      "source": [
        "# divisor e dividendo\n",
        "a = int( input(\"Digite o divisor:\") )\n",
        "b = int( input(\"Digite o dividendo:\") )\n",
        "\n",
        "# tentativa de operar a divisao\n",
        "try:\n",
        "  result = b/a\n",
        "#Execcao 1: divisao por 0\n",
        "except ZeroDivisionError:\n",
        "  print(\"Não é possível dividir por 0\")"
      ],
      "execution_count": null,
      "outputs": [
        {
          "output_type": "stream",
          "text": [
            "Digite o divisor:0\n",
            "Digite o dividendo:5\n",
            "Não é possível dividir por 0\n"
          ],
          "name": "stdout"
        }
      ]
    },
    {
      "cell_type": "code",
      "metadata": {
        "colab": {
          "base_uri": "https://localhost:8080/",
          "height": 254
        },
        "id": "Q2-meF_xUopp",
        "outputId": "279be41f-d8bf-4dc2-d5f8-dce8d5f9be7c"
      },
      "source": [
        "# sem o tratamento de exceção\n",
        "# crash no programa\n",
        "\n",
        "# divisor e dividendo\n",
        "a = int( input(\"Digite o divisor:\") )\n",
        "b = int( input(\"Digite o dividendo:\") )\n",
        "\n",
        "result = b/a\n",
        "print(result)"
      ],
      "execution_count": null,
      "outputs": [
        {
          "output_type": "stream",
          "text": [
            "Digite o divisor:0\n",
            "Digite o dividendo:5\n"
          ],
          "name": "stdout"
        },
        {
          "output_type": "error",
          "ename": "ZeroDivisionError",
          "evalue": "ignored",
          "traceback": [
            "\u001b[0;31m---------------------------------------------------------------------------\u001b[0m",
            "\u001b[0;31mZeroDivisionError\u001b[0m                         Traceback (most recent call last)",
            "\u001b[0;32m<ipython-input-6-4cdd908afced>\u001b[0m in \u001b[0;36m<module>\u001b[0;34m()\u001b[0m\n\u001b[1;32m      6\u001b[0m \u001b[0mb\u001b[0m \u001b[0;34m=\u001b[0m \u001b[0mint\u001b[0m\u001b[0;34m(\u001b[0m \u001b[0minput\u001b[0m\u001b[0;34m(\u001b[0m\u001b[0;34m\"Digite o dividendo:\"\u001b[0m\u001b[0;34m)\u001b[0m \u001b[0;34m)\u001b[0m\u001b[0;34m\u001b[0m\u001b[0;34m\u001b[0m\u001b[0m\n\u001b[1;32m      7\u001b[0m \u001b[0;34m\u001b[0m\u001b[0m\n\u001b[0;32m----> 8\u001b[0;31m \u001b[0mresult\u001b[0m \u001b[0;34m=\u001b[0m \u001b[0mb\u001b[0m\u001b[0;34m/\u001b[0m\u001b[0ma\u001b[0m\u001b[0;34m\u001b[0m\u001b[0;34m\u001b[0m\u001b[0m\n\u001b[0m\u001b[1;32m      9\u001b[0m \u001b[0mprint\u001b[0m\u001b[0;34m(\u001b[0m\u001b[0mresult\u001b[0m\u001b[0;34m)\u001b[0m\u001b[0;34m\u001b[0m\u001b[0;34m\u001b[0m\u001b[0m\n",
            "\u001b[0;31mZeroDivisionError\u001b[0m: division by zero"
          ]
        }
      ]
    },
    {
      "cell_type": "code",
      "metadata": {
        "id": "6YV7Xd7sXFIl"
      },
      "source": [
        ""
      ],
      "execution_count": null,
      "outputs": []
    }
  ]
}