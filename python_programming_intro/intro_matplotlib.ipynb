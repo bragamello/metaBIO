{
  "nbformat": 4,
  "nbformat_minor": 0,
  "metadata": {
    "colab": {
      "name": "intro_matplotlib.ipynb",
      "provenance": [],
      "collapsed_sections": []
    },
    "kernelspec": {
      "name": "python3",
      "display_name": "Python 3"
    },
    "language_info": {
      "name": "python"
    }
  },
  "cells": [
    {
      "cell_type": "markdown",
      "metadata": {
        "id": "mnKBSNC8Uddu"
      },
      "source": [
        "#**Matplotlib**\n",
        "\n",
        "Primeiros passos na que provavelmente na biblioteca de visualização de dados mais utilizadas em Python"
      ]
    },
    {
      "cell_type": "markdown",
      "metadata": {
        "id": "VwqpBnt8UdcE"
      },
      "source": [
        "**A camada do artista:** Com a sintaxe um pouco mais complexa, é ideal para desenvolvimento"
      ]
    },
    {
      "cell_type": "code",
      "metadata": {
        "colab": {
          "base_uri": "https://localhost:8080/",
          "height": 297
        },
        "id": "uZtFrNASTib4",
        "outputId": "ba598632-5c30-4b17-ddce-94815dd51249"
      },
      "source": [
        "# Camada Backend\n",
        "from matplotlib.backends.backend_agg import FigureCanvas as FigureCanvas\n",
        "\n",
        "# Camada do artista\n",
        "from matplotlib.figure import Figure\n",
        "\n",
        "# chamando figure\n",
        "# Aqui temos os métodos que vamos precisar\n",
        "fig = Figure()\n",
        "canvas = FigureCanvas(fig)\n",
        "\n",
        "# pontos de uma curva numa lista\n",
        "# aqui poderia ter uma entrada de dados\n",
        "x = [1,2,3,4,5,6,7]\n",
        "y = [2,4.2,6.1,7.9,11,12,14.3]\n",
        "\n",
        "# criar um axes\n",
        "ax = fig.add_subplot(111)\n",
        "ax.scatter(x,y)\n",
        "\n",
        "# ajustar o gráfico\n",
        "ax.set_title(r\"Relação Linear: $y = \\alpha x + \\beta$\")\n",
        "ax.set_xlabel(\"x\")\n",
        "ax.set_ylabel(\"y\")\n",
        "fig"
      ],
      "execution_count": null,
      "outputs": [
        {
          "output_type": "execute_result",
          "data": {
            "image/png": "[encoded data removed]",
            "text/plain": [
              "<Figure size 432x288 with 1 Axes>"
            ]
          },
          "metadata": {
            "tags": []
          },
          "execution_count": 1
        }
      ]
    },
    {
      "cell_type": "markdown",
      "metadata": {
        "id": "BhUQ8BpCOGy-"
      },
      "source": [
        "**A camada de script:** Sintaxe mais simples porém menos versátil (mas versátil o suficiente!)"
      ]
    },
    {
      "cell_type": "code",
      "metadata": {
        "colab": {
          "base_uri": "https://localhost:8080/",
          "height": 297
        },
        "id": "lGydkLgoVNHX",
        "outputId": "d5bb4324-4cbf-4787-8b2f-f47b116ee45a"
      },
      "source": [
        "# Camada Backend\n",
        "import matplotlib.pyplot as plt\n",
        "\n",
        "# pontos de uma curva numa lista\n",
        "# aqui poderia ter uma entrada de dados\n",
        "x = [1,2,3,4,5,6,7]\n",
        "y = [2,4.2,6.1,7.9,11,12,14.3]\n",
        "\n",
        "plt.plot(x,y)\n",
        "# ajustar o gráfico\n",
        "plt.title(r\"Relação Linear: $y = \\alpha x + \\beta$\")\n",
        "plt.xlabel(\"x\")\n",
        "plt.ylabel(\"y\")\n",
        "plt.show()"
      ],
      "execution_count": null,
      "outputs": [
        {
          "output_type": "display_data",
          "data": {
            "image/png": "[encoded data removed]",
            "text/plain": [
              "<Figure size 432x288 with 1 Axes>"
            ]
          },
          "metadata": {
            "tags": [],
            "needs_background": "light"
          }
        }
      ]
    },
    {
      "cell_type": "code",
      "metadata": {
        "id": "qdLPWFbebGVK"
      },
      "source": [
        ""
      ],
      "execution_count": null,
      "outputs": []
    }
  ]
}