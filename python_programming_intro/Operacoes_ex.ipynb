{
  "nbformat": 4,
  "nbformat_minor": 0,
  "metadata": {
    "colab": {
      "name": "Operacoes_ex.ipynb",
      "provenance": []
    },
    "kernelspec": {
      "name": "python3",
      "display_name": "Python 3"
    },
    "language_info": {
      "name": "python"
    }
  },
  "cells": [
    {
      "cell_type": "markdown",
      "metadata": {
        "id": "2m7dxd-pUG0r"
      },
      "source": [
        "# **Explorando operadores**\n",
        "\n",
        "Exercício onde vamos fazer as nossas primeiras expressões numéricas. Defina duas variáveis e designe um valor a elas. Depois, explore os seguintes operadores\n",
        "\n",
        "1) a+b $\\to$ soma\n",
        "\n",
        "2) a-b $\\to$ diferença\n",
        "\n",
        "3) a*b $\\to$ multiplicação\n",
        "\n",
        "4) a/b $\\to$ divisão\n",
        "\n",
        "5) a**b $\\to$ exponenciação\n",
        "\n",
        "6) a//b $\\to$ divisão inteira (floored quotient, um quociente com piso). Ele mantém somente a parte inteira da divisão. IMPORTANTE: Não arredonda a divisão!!!\n",
        "\n",
        "7) a%b -> Resto da divisão\n"
      ]
    },
    {
      "cell_type": "code",
      "metadata": {
        "colab": {
          "base_uri": "https://localhost:8080/"
        },
        "id": "MEw41q1fSHAr",
        "outputId": "3048d5bd-c49e-4597-ed2d-0a73ff24bbde"
      },
      "source": [
        "# exemplo\n",
        "a = 11\n",
        "b = 2\n",
        "\n",
        "a+b"
      ],
      "execution_count": null,
      "outputs": [
        {
          "output_type": "execute_result",
          "data": {
            "text/plain": [
              "13"
            ]
          },
          "metadata": {
            "tags": []
          },
          "execution_count": 1
        }
      ]
    },
    {
      "cell_type": "code",
      "metadata": {
        "colab": {
          "base_uri": "https://localhost:8080/"
        },
        "id": "khk_CzUfVTE-",
        "outputId": "d3f2cb60-46eb-431c-bbf5-120946f292a4"
      },
      "source": [
        "# em um script\n",
        "print(a+b)"
      ],
      "execution_count": null,
      "outputs": [
        {
          "output_type": "stream",
          "text": [
            "13\n"
          ],
          "name": "stdout"
        }
      ]
    },
    {
      "cell_type": "code",
      "metadata": {
        "colab": {
          "base_uri": "https://localhost:8080/"
        },
        "id": "h3zPuTCrVZUs",
        "outputId": "4ec52b16-c7df-41b4-bdb8-cef347d0d9eb"
      },
      "source": [
        "# Podemos guardar o resultado em uma variável\n",
        "c = a+b\n",
        "c"
      ],
      "execution_count": null,
      "outputs": [
        {
          "output_type": "execute_result",
          "data": {
            "text/plain": [
              "13"
            ]
          },
          "metadata": {
            "tags": []
          },
          "execution_count": 3
        }
      ]
    },
    {
      "cell_type": "code",
      "metadata": {
        "colab": {
          "base_uri": "https://localhost:8080/"
        },
        "id": "nhk2CYI_ViUi",
        "outputId": "6dee1430-58e0-4e1a-a5ed-38dc4917e970"
      },
      "source": [
        "# em um script\n",
        "print(c)"
      ],
      "execution_count": null,
      "outputs": [
        {
          "output_type": "stream",
          "text": [
            "13\n"
          ],
          "name": "stdout"
        }
      ]
    },
    {
      "cell_type": "markdown",
      "metadata": {
        "id": "9jBRPDpyVnEf"
      },
      "source": [
        "Como exercício, explore todos os operados e verifique se você obteve o resultado esperado: +,-,*,**,/,//,%\n"
      ]
    },
    {
      "cell_type": "code",
      "metadata": {
        "id": "D7xvxd-tVlhj"
      },
      "source": [
        ""
      ],
      "execution_count": null,
      "outputs": []
    }
  ]
}